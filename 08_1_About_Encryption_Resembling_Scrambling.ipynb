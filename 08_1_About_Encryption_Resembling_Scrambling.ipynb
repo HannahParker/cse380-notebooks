{
  "nbformat": 4,
  "nbformat_minor": 0,
  "metadata": {
    "colab": {
      "name": "08_1_About_Encryption_Resembling_Scrambling.ipynb",
      "provenance": [],
      "include_colab_link": true
    },
    "kernelspec": {
      "name": "python3",
      "display_name": "Python 3"
    }
  },
  "cells": [
    {
      "cell_type": "markdown",
      "metadata": {
        "id": "view-in-github",
        "colab_type": "text"
      },
      "source": [
        "<a href=\"https://colab.research.google.com/github/HannahParker/cse380-notebooks/blob/master/08_1_About_Encryption_Resembling_Scrambling.ipynb\" target=\"_parent\"><img src=\"https://colab.research.google.com/assets/colab-badge.svg\" alt=\"Open In Colab\"/></a>"
      ]
    },
    {
      "cell_type": "markdown",
      "metadata": {
        "id": "R41Y5Uaav8pu"
      },
      "source": [
        "# About Encryption Resembling Scrambling\n",
        "## Divide Pair Conquer\n",
        "### Due: Monday, 22 February 2021, 11:59 pm"
      ]
    },
    {
      "cell_type": "markdown",
      "metadata": {
        "id": "gSgt80RdwuCJ"
      },
      "source": [
        "## Introduction"
      ]
    },
    {
      "cell_type": "markdown",
      "metadata": {
        "id": "Qdv9SxTAwzAe"
      },
      "source": [
        "### Encryption is Like Scrambling"
      ]
    },
    {
      "cell_type": "markdown",
      "metadata": {
        "id": "33t5wnxNw8Qp"
      },
      "source": [
        "#### Perfect Shuffling"
      ]
    },
    {
      "cell_type": "code",
      "metadata": {
        "id": "jcgt2qMEw-7e"
      },
      "source": [
        "def shuffle(deck):\n",
        "  mid = len(deck) // 2\n",
        "  tuples = list(zip(deck[:mid], deck[mid:]))\n",
        "  return [i for sub in tuples for i in sub]\n",
        "\n",
        "deck0 = ['As', '2s', '3s', '4s', '5s', '6s', '7s', '8s', '9s', '10s', 'Js', 'Qs', 'Ks',\n",
        "         'Ah', '2h', '3h', '4h', '5h', '6h', '7h', '8h', '9h', '10h', 'Jh', 'Qh', 'Kh',\n",
        "         'Ac', '2c', '3c', '4c', '5c', '6c', '7c', '8c', '9c', '10c', 'Jc', 'Qc', 'Kc',\n",
        "         'Ad', '2d', '3d', '4d', '5d', '6d', '7d', '8d', '9d', '10d', 'Jd', 'Qd', 'Kd']\n",
        "\n",
        "deck1 = shuffle(deck0)\n",
        "deck2 = shuffle(deck1)\n",
        "deck3 = shuffle(deck2)\n",
        "deck4 = shuffle(deck3)\n",
        "deck5 = shuffle(deck4)\n",
        "deck6 = shuffle(deck5)\n",
        "deck7 = shuffle(deck6)\n",
        "deck8 = shuffle(deck7)"
      ],
      "execution_count": 1,
      "outputs": []
    },
    {
      "cell_type": "code",
      "metadata": {
        "id": "adz3z9-7xH-S",
        "outputId": "ab13340d-9571-4ae3-de33-a3019317ed2a",
        "colab": {
          "base_uri": "https://localhost:8080/"
        }
      },
      "source": [
        "deck0 == deck8"
      ],
      "execution_count": 2,
      "outputs": [
        {
          "output_type": "execute_result",
          "data": {
            "text/plain": [
              "True"
            ]
          },
          "metadata": {
            "tags": []
          },
          "execution_count": 2
        }
      ]
    },
    {
      "cell_type": "code",
      "metadata": {
        "id": "LpbepDCuyUnw",
        "outputId": "ac70331a-8b56-4576-a788-13d626784096",
        "colab": {
          "base_uri": "https://localhost:8080/"
        }
      },
      "source": [
        "deck5"
      ],
      "execution_count": 3,
      "outputs": [
        {
          "output_type": "execute_result",
          "data": {
            "text/plain": [
              "['As',\n",
              " '9s',\n",
              " '4h',\n",
              " 'Qh',\n",
              " '7c',\n",
              " '2d',\n",
              " '10d',\n",
              " '6s',\n",
              " 'Ah',\n",
              " '9h',\n",
              " '4c',\n",
              " 'Qc',\n",
              " '7d',\n",
              " '3s',\n",
              " 'Js',\n",
              " '6h',\n",
              " 'Ac',\n",
              " '9c',\n",
              " '4d',\n",
              " 'Qd',\n",
              " '8s',\n",
              " '3h',\n",
              " 'Jh',\n",
              " '6c',\n",
              " 'Ad',\n",
              " '9d',\n",
              " '5s',\n",
              " 'Ks',\n",
              " '8h',\n",
              " '3c',\n",
              " 'Jc',\n",
              " '6d',\n",
              " '2s',\n",
              " '10s',\n",
              " '5h',\n",
              " 'Kh',\n",
              " '8c',\n",
              " '3d',\n",
              " 'Jd',\n",
              " '7s',\n",
              " '2h',\n",
              " '10h',\n",
              " '5c',\n",
              " 'Kc',\n",
              " '8d',\n",
              " '4s',\n",
              " 'Qs',\n",
              " '7h',\n",
              " '2c',\n",
              " '10c',\n",
              " '5d',\n",
              " 'Kd']"
            ]
          },
          "metadata": {
            "tags": []
          },
          "execution_count": 3
        }
      ]
    },
    {
      "cell_type": "markdown",
      "metadata": {
        "id": "7FK5C1j5x48S"
      },
      "source": [
        "### What is the PCS Cryptosystem?\n",
        "(Perfect Card Shuffling)\n",
        "\n",
        "1. Get a new deck of cards.\n",
        "2. Choose a number, say 5 (this is your encryption key).\n",
        "3. Write a message, one character per card on your original deck.\n",
        "4. Perfect shuffle the deck 5 times.\n",
        "5. Send the shuffled deck to your friend.\n",
        "6. Your friend does (8 - 5 = 3) perfect shuffles to get the original order back."
      ]
    },
    {
      "cell_type": "markdown",
      "metadata": {
        "id": "UwvpbU4Lwzva"
      },
      "source": [
        "### How Does RSA Scramble?"
      ]
    },
    {
      "cell_type": "markdown",
      "metadata": {
        "id": "u_L0a4HyxZG6"
      },
      "source": [
        "Look at how RSA encryption shuffles/scrambles numbers (say the number 10) with some (very) small primes (say 2 and 11) and the smallest possible encryption exponent (3)."
      ]
    },
    {
      "cell_type": "code",
      "metadata": {
        "id": "5bu0pHFPxUKj",
        "outputId": "f44a70dd-748b-4882-b615-4cd4960c1ae5",
        "colab": {
          "base_uri": "https://localhost:8080/"
        }
      },
      "source": [
        "pow(10, 3, 2 * 11)"
      ],
      "execution_count": 4,
      "outputs": [
        {
          "output_type": "execute_result",
          "data": {
            "text/plain": [
              "10"
            ]
          },
          "metadata": {
            "tags": []
          },
          "execution_count": 4
        }
      ]
    },
    {
      "cell_type": "markdown",
      "metadata": {
        "id": "FNhZGKBIxz8a"
      },
      "source": [
        "### Alternatively"
      ]
    },
    {
      "cell_type": "markdown",
      "metadata": {
        "id": "RYDJF01vx3Q3"
      },
      "source": [
        "What about with 3 and 11?"
      ]
    },
    {
      "cell_type": "code",
      "metadata": {
        "id": "b9GLFPRWx6pP",
        "outputId": "256e2647-f0ca-4fbd-d245-afb47b3b0b97",
        "colab": {
          "base_uri": "https://localhost:8080/"
        }
      },
      "source": [
        "pow(10, 3, 33)"
      ],
      "execution_count": 5,
      "outputs": [
        {
          "output_type": "execute_result",
          "data": {
            "text/plain": [
              "10"
            ]
          },
          "metadata": {
            "tags": []
          },
          "execution_count": 5
        }
      ]
    },
    {
      "cell_type": "markdown",
      "metadata": {
        "id": "4wxQamU-yACz"
      },
      "source": [
        "### Save Typing"
      ]
    },
    {
      "cell_type": "code",
      "metadata": {
        "id": "mqsYWl5CyCCa",
        "outputId": "78b130b6-cacb-4a5d-d029-c63492ccf173",
        "colab": {
          "base_uri": "https://localhost:8080/"
        }
      },
      "source": [
        "for m in range(22):\n",
        "  c = pow(m, 3, 22)\n",
        "  print(m, c, m == c)"
      ],
      "execution_count": 6,
      "outputs": [
        {
          "output_type": "stream",
          "text": [
            "0 0 True\n",
            "1 1 True\n",
            "2 8 False\n",
            "3 5 False\n",
            "4 20 False\n",
            "5 15 False\n",
            "6 18 False\n",
            "7 13 False\n",
            "8 6 False\n",
            "9 3 False\n",
            "10 10 True\n",
            "11 11 True\n",
            "12 12 True\n",
            "13 19 False\n",
            "14 16 False\n",
            "15 9 False\n",
            "16 4 False\n",
            "17 7 False\n",
            "18 2 False\n",
            "19 17 False\n",
            "20 14 False\n",
            "21 21 True\n"
          ],
          "name": "stdout"
        }
      ]
    },
    {
      "cell_type": "code",
      "metadata": {
        "id": "NtH0zIouyRrG",
        "outputId": "12f19d2a-1d1f-45f5-c512-e0f4f31dc235",
        "colab": {
          "base_uri": "https://localhost:8080/"
        }
      },
      "source": [
        "for m in range(33):\n",
        "  c = pow(m, 3, 33)\n",
        "  print(m, c, m == c)"
      ],
      "execution_count": 7,
      "outputs": [
        {
          "output_type": "stream",
          "text": [
            "0 0 True\n",
            "1 1 True\n",
            "2 8 False\n",
            "3 27 False\n",
            "4 31 False\n",
            "5 26 False\n",
            "6 18 False\n",
            "7 13 False\n",
            "8 17 False\n",
            "9 3 False\n",
            "10 10 True\n",
            "11 11 True\n",
            "12 12 True\n",
            "13 19 False\n",
            "14 5 False\n",
            "15 9 False\n",
            "16 4 False\n",
            "17 29 False\n",
            "18 24 False\n",
            "19 28 False\n",
            "20 14 False\n",
            "21 21 True\n",
            "22 22 True\n",
            "23 23 True\n",
            "24 30 False\n",
            "25 16 False\n",
            "26 20 False\n",
            "27 15 False\n",
            "28 7 False\n",
            "29 2 False\n",
            "30 6 False\n",
            "31 25 False\n",
            "32 32 True\n"
          ],
          "name": "stdout"
        }
      ]
    },
    {
      "cell_type": "markdown",
      "metadata": {
        "id": "P4XjVdpbyVO6"
      },
      "source": [
        "### Tabulate"
      ]
    },
    {
      "cell_type": "markdown",
      "metadata": {
        "id": "6bgQTBzSyYLV"
      },
      "source": [
        "Count how many scramblings are **not** derangements."
      ]
    },
    {
      "cell_type": "markdown",
      "metadata": {
        "id": "AXZC_waAyfWn"
      },
      "source": [
        "#### Definition"
      ]
    },
    {
      "cell_type": "markdown",
      "metadata": {
        "id": "LHLY0n3Ayg-g"
      },
      "source": [
        "A *derangement* is a permutation where no element is left in its original position."
      ]
    },
    {
      "cell_type": "code",
      "metadata": {
        "id": "ZHJpGswbypA_",
        "outputId": "f0a3942e-0bef-42e2-8d14-244c8a1ac995",
        "colab": {
          "base_uri": "https://localhost:8080/"
        }
      },
      "source": [
        "from math import gcd\n",
        "from sympy import prime\n",
        "\n",
        "def find_first_e(n, t):\n",
        "  for e in range(3, n):\n",
        "    if gcd(e, t) == 1:\n",
        "      return e\n",
        "  return None\n",
        "\n",
        "headers = '| p | q | n | t | e | # |/| n |=|   %  |\\n'\\\n",
        "          '|---|---|---|---|---|---|-|---|-|------|'\n",
        "\n",
        "print(headers)\n",
        "\n",
        "for i in range(1, 9):\n",
        "  for j in range(i + 1, 9):\n",
        "    p, q = prime(i), prime(j)\n",
        "    n = p * q\n",
        "    t = (p - 1) * (q - 1)\n",
        "    e = find_first_e(n, t)\n",
        "    num = sum(map(lambda m: m == pow(m, e, n), range(0, n)))\n",
        "    print(f'|{p}|{q}|{n}|{t}|{e}|{num}|/|{n}|=|{num/n/.01:.2f}|')"
      ],
      "execution_count": 8,
      "outputs": [
        {
          "output_type": "stream",
          "text": [
            "| p | q | n | t | e | # |/| n |=|   %  |\n",
            "|---|---|---|---|---|---|-|---|-|------|\n",
            "|2|3|6|2|3|6|/|6|=|100.00|\n",
            "|2|5|10|4|3|6|/|10|=|60.00|\n",
            "|2|7|14|6|5|6|/|14|=|42.86|\n",
            "|2|11|22|10|3|6|/|22|=|27.27|\n",
            "|2|13|26|12|5|10|/|26|=|38.46|\n",
            "|2|17|34|16|3|6|/|34|=|17.65|\n",
            "|2|19|38|18|5|6|/|38|=|15.79|\n",
            "|3|5|15|8|3|9|/|15|=|60.00|\n",
            "|3|7|21|12|5|9|/|21|=|42.86|\n",
            "|3|11|33|20|3|9|/|33|=|27.27|\n",
            "|3|13|39|24|5|15|/|39|=|38.46|\n",
            "|3|17|51|32|3|9|/|51|=|17.65|\n",
            "|3|19|57|36|5|9|/|57|=|15.79|\n",
            "|5|7|35|24|5|15|/|35|=|42.86|\n",
            "|5|11|55|40|3|9|/|55|=|16.36|\n",
            "|5|13|65|48|5|25|/|65|=|38.46|\n",
            "|5|17|85|64|3|9|/|85|=|10.59|\n",
            "|5|19|95|72|5|15|/|95|=|15.79|\n",
            "|7|11|77|60|7|21|/|77|=|27.27|\n",
            "|7|13|91|72|5|15|/|91|=|16.48|\n",
            "|7|17|119|96|5|15|/|119|=|12.61|\n",
            "|7|19|133|108|5|9|/|133|=|6.77|\n",
            "|11|13|143|120|7|21|/|143|=|14.69|\n",
            "|11|17|187|160|3|9|/|187|=|4.81|\n",
            "|11|19|209|180|7|21|/|209|=|10.05|\n",
            "|13|17|221|192|5|25|/|221|=|11.31|\n",
            "|13|19|247|216|5|15|/|247|=|6.07|\n",
            "|17|19|323|288|5|15|/|323|=|4.64|\n"
          ],
          "name": "stdout"
        }
      ]
    },
    {
      "cell_type": "markdown",
      "metadata": {
        "id": "Wc7xgPsR0nGU"
      },
      "source": [
        "## Your DPC Tasks"
      ]
    },
    {
      "cell_type": "markdown",
      "metadata": {
        "id": "kkhscGNe0uBe"
      },
      "source": [
        "### TODO Investigate"
      ]
    },
    {
      "cell_type": "markdown",
      "metadata": {
        "id": "QRnG8WwI0xce"
      },
      "source": [
        "Why is 65537 ($2^{16} + 1$) typically used as **e**, the encryption exponent?"
      ]
    },
    {
      "cell_type": "code",
      "metadata": {
        "id": "CVHEKvBr1BDk",
        "outputId": "9b4c2787-2fad-4cee-8af7-76fad84b082d",
        "colab": {
          "base_uri": "https://localhost:8080/"
        }
      },
      "source": [
        "e = 2 ** 16 + 1\n",
        "(e, bin(e))"
      ],
      "execution_count": 9,
      "outputs": [
        {
          "output_type": "execute_result",
          "data": {
            "text/plain": [
              "(65537, '0b10000000000000001')"
            ]
          },
          "metadata": {
            "tags": []
          },
          "execution_count": 9
        }
      ]
    },
    {
      "cell_type": "markdown",
      "metadata": {
        "id": "y-zlwgx92XqS"
      },
      "source": [
        "This may be used as e, because the binary is relatively simple. Using a simple binary number will\r\n",
        "increase the speed of these processes.\r\n",
        "\r\n",
        "https://www.johndcook.com/blog/2018/12/12/rsa-exponent/\r\n",
        "\r\n",
        "\r\n",
        "This website explains that the number 65537 is a relatively large prime, so it’s easier to arrange. In\r\n",
        "addition, it is one more than a power of 2, so raising a number to the 65537th power consists mostly of\r\n",
        "squaring. The means the customary value of e was chosen for efficiently. This number is used 99.5% of\r\n",
        "the time"
      ]
    },
    {
      "cell_type": "markdown",
      "metadata": {
        "id": "EIGjniwq09De"
      },
      "source": [
        "### TODO Explore"
      ]
    },
    {
      "cell_type": "markdown",
      "metadata": {
        "id": "acs-QjkD1PP6"
      },
      "source": [
        "The book gives some very vague constraints on **p** and **q**, the two primes used in RSA.\n",
        "\n",
        "Research the criteria the security community uses to judge the goodness (suitability) of these two primes, that in practice are randomly chosen.\n",
        "\n",
        "What is bad about the choice of **p** and **q** in this next cell?"
      ]
    },
    {
      "cell_type": "code",
      "metadata": {
        "id": "K1CkvoOi1hIB",
        "outputId": "3ec3a735-198e-495f-da86-f09e959baa0a",
        "colab": {
          "base_uri": "https://localhost:8080/"
        }
      },
      "source": [
        "p = 5179195214309\n",
        "q = 5179195214311\n",
        "n = p * q\n",
        "t = (p - 1) * (q - 1)\n",
        "e = 65537\n",
        "d = 17826498662743824930707633\n",
        "m = 5179195214304\n",
        "c = pow(m, e, n)\n",
        "m_again = pow(c, d, n)\n",
        "(c, m_again, m == m_again)"
      ],
      "execution_count": 11,
      "outputs": [
        {
          "output_type": "execute_result",
          "data": {
            "text/plain": [
              "(8966759170151112623516383, 5179195214304, True)"
            ]
          },
          "metadata": {
            "tags": []
          },
          "execution_count": 11
        }
      ]
    },
    {
      "cell_type": "markdown",
      "metadata": {
        "id": "Jft8BAdL20bj"
      },
      "source": [
        "When choosing p and q, you want to choose two large prime numbers and compute these to n = pq. \r\n",
        "\r\n",
        "The two prime numbers must be different from each other but relative in size - this will keep them at the required bit length. \r\n",
        "\r\n",
        "You want to make the factorization difficult. To do this, you want the primes to be large.\r\n",
        "\r\n",
        "The issue with p and q are that they are so close to each other that factorization will be easy!\r\n",
        "\r\n",
        "\"Don't deliberately choose p and q so that they're near each other: if p and q are truly close to each other (e.g., less than 10^10 apart, say), then their product pq is easily factorized by Fermat's method. But if you're choosing random primes p and q in the range [2^511, 2^512], this isn't going to happen with any sort of realistic probability.\" \r\n",
        "\r\n",
        "https://stackoverflow.com/questions/12192116/rsa-bitlength-of-p-and-q\r\n"
      ]
    },
    {
      "cell_type": "markdown",
      "metadata": {
        "id": "OCGpVDCv141v"
      },
      "source": [
        "### Bonus"
      ]
    },
    {
      "cell_type": "markdown",
      "metadata": {
        "id": "F8zaiIcQ16F3"
      },
      "source": [
        "From Wikipedia:\n",
        "\n",
        "\n",
        "\n",
        "> The earliest known statement of the [Chinese Remainder Theorem], as a problem with specific numbers, appears in the 3rd-century book *Sun-tzu Suan-ching* by the Chinese mathematician Sun-tzu:\n",
        "\n",
        "> There are certain things whose number is unknown. If we count them by threes,we have two left over; by fives, we have three left over; and by sevens, two are left over. How many things are there?\n",
        "\n",
        "\n"
      ]
    },
    {
      "cell_type": "markdown",
      "metadata": {
        "id": "UQGbqaRl2M8D"
      },
      "source": [
        "Can you solve this by hand?\n",
        "  \n",
        "That is, with just pencil and paper?"
      ]
    },
    {
      "cell_type": "markdown",
      "metadata": {
        "id": "qjkhcHRi2Vg8"
      },
      "source": [
        "How about this one?\n",
        "\n",
        "Find all solutions, if any, to the system of congruences:\n",
        "\n",
        "$x \\equiv_{6} 5$\n",
        "\n",
        "$x \\equiv_{10} 3$\n",
        "\n",
        "$x \\equiv_{15} 8$\n"
      ]
    },
    {
      "cell_type": "markdown",
      "metadata": {
        "id": "9sB8Y_AQ5pih"
      },
      "source": [
        "We attempted this by simply plugging in numbers for $x$. \r\n",
        "\r\n",
        "$(11)\\mod(6) = 5$\r\n",
        "\r\n",
        "$(11)\\mod(10) = 1$\r\n",
        "\r\n",
        "$(23)\\mod(6) = 5$\r\n",
        "\r\n",
        "$(23)\\mod(10) = 3$\r\n",
        "\r\n",
        "$(23)\\mod(15) = 8$\r\n",
        "\r\n",
        "$(43)\\mod(6) = 4$\r\n",
        "\r\n",
        "solutions: \r\n",
        "\r\n",
        "$23$ "
      ]
    },
    {
      "cell_type": "markdown",
      "metadata": {
        "id": "cPtcNhGG2Yt5"
      },
      "source": [
        "Challenge yourselves to figure this out without using a computer.\n",
        "\n",
        "(You can use a calculator, but not its programmability, if it has it!)"
      ]
    },
    {
      "cell_type": "markdown",
      "metadata": {
        "id": "VF1xYIwZ9wC8"
      },
      "source": [
        "23 is the only one I could find by hand. Code to find solutions:"
      ]
    },
    {
      "cell_type": "code",
      "metadata": {
        "id": "PNjlqh5k7-64"
      },
      "source": [
        "for x in range(1,1000):\r\n",
        "  if x % 6 == 5 and x % 10 == 3 and x % 15 == 8:\r\n",
        "    print(\"True when x = \", x)\r\n"
      ],
      "execution_count": null,
      "outputs": []
    },
    {
      "cell_type": "markdown",
      "metadata": {
        "id": "AwQuIgw35KrD"
      },
      "source": [
        "#### Hint"
      ]
    },
    {
      "cell_type": "markdown",
      "metadata": {
        "id": "9QqSobla5MWE"
      },
      "source": [
        "You cannot apply the Chinese Remainder Theorem directly, because the moduli are not pairwise coprime. Try using that consequence of the CRT that you used last week to translate these congruences into a set of congruences that together are equivalent to the given ones."
      ]
    }
  ]
}