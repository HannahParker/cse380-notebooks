{
  "nbformat": 4,
  "nbformat_minor": 0,
  "metadata": {
    "kernelspec": {
      "display_name": "Python 3",
      "language": "python",
      "name": "python3"
    },
    "language_info": {
      "codemirror_mode": {
        "name": "ipython",
        "version": 3
      },
      "file_extension": ".py",
      "mimetype": "text/x-python",
      "name": "python",
      "nbconvert_exporter": "python",
      "pygments_lexer": "ipython3",
      "version": "3.9.0"
    },
    "colab": {
      "name": "ponder_and_prove_combinatorics_and_probability.ipynb",
      "provenance": []
    }
  },
  "cells": [
    {
      "cell_type": "markdown",
      "metadata": {
        "id": "49fibrLz19lc"
      },
      "source": [
        "# Ponder and Prove Combinatorics and Probability\n",
        "#### Due: Saturday, 6 February 2021, 11:59 pm."
      ]
    },
    {
      "cell_type": "markdown",
      "metadata": {
        "id": "eQzKC5Rw19lf"
      },
      "source": [
        "## Conjecture\n",
        "\n",
        "A number-theoretic conjecture of combinatorial significance is the following:\n",
        "\n",
        "$degree2({2n \\choose n}) =$ the \"bits-on count\" (or population count, or Hamming weight) of $n$.\n",
        "\n",
        "$degree2(m)$ is defined as the number (degree, exponent) of 2's in the prime factorization of $m$.\n",
        "\n",
        "In other words, for any $m$, a positive integer, $m = 2^e \\cdot o$ where $o$ is an odd positive integer (could be 1) and $e$ is a natural number, including zero --- which would be the case when $m$ is odd. It's the $e$ that is the $degree2$ of $m$.\n",
        "\n",
        "Another way to state this conjecture is that the number of 1's in the binary expansion of ${2n \\choose n}$ for positive integer $n$ is equal to the number of 2's in the prime factorization of $n$.\n",
        "\n",
        "Your task is to write Python code to test this conjecture for as many positive integers as you can. See the self-assessment for more details.\n",
        "\n",
        "Note: a `bitsoncount` function can be a one-liner in Python: `return bin(x).count('1')`\n",
        "\n"
      ]
    },
    {
      "cell_type": "code",
      "metadata": {
        "id": "q0wrlAwN3T3A"
      },
      "source": [
        "def prime_factors(n):\r\n",
        "    i = 2\r\n",
        "    factors = []\r\n",
        "    while i * i <= n:\r\n",
        "        if n % i:\r\n",
        "            i += 1\r\n",
        "        else:\r\n",
        "            n //= i\r\n",
        "            factors.append(i)\r\n",
        "    if n > 1:\r\n",
        "        factors.append(n)\r\n",
        "    return factors"
      ],
      "execution_count": 1,
      "outputs": []
    },
    {
      "cell_type": "code",
      "metadata": {
        "id": "DtyQLkGL4H0G"
      },
      "source": [
        "def decimalToBinary(n): \r\n",
        "    return bin(n).replace(\"0b\", \"\") "
      ],
      "execution_count": 2,
      "outputs": []
    },
    {
      "cell_type": "code",
      "metadata": {
        "id": "b_ijodeN5qu_"
      },
      "source": [
        "from collections import Counter\r\n",
        "\r\n",
        "def degree2(m):\r\n",
        "  return Counter(prime_factors(m))[2]"
      ],
      "execution_count": 3,
      "outputs": []
    },
    {
      "cell_type": "code",
      "metadata": {
        "id": "TFpPET-839Bv"
      },
      "source": [
        "import time\r\n",
        "\r\n",
        "start = time.clock()\r\n",
        "\r\n",
        "i = 1\r\n",
        "while time.clock() - start < 2:\r\n",
        "  ex = 2 ** degree2(i)\r\n",
        "  if (i/ex)%2 != 1:\r\n",
        "    print(\"Conjecture Fails at %s\" % (i))\r\n",
        "    print(\"Degree2(m) = %s\"% (degree2(i)))\r\n",
        "  i += 1"
      ],
      "execution_count": 5,
      "outputs": []
    },
    {
      "cell_type": "markdown",
      "metadata": {
        "id": "sgx8ArBh19lg"
      },
      "source": [
        "## Basic Probability Theory Question\n",
        "A dark room contains two barrels. The first barrel is filled with green marbles, the second is filled with a half-and-half mixture of green and blue marbles. So there's a 100% chance of choosing a green marble from the first barrel, and a 50% chance of choosing either color in the second barrel. You reach into one of the barrels (it's dark so you don't know which one) and select a marble at random. It's green. You select another. It's green too. You select a third, a fourth, a fifth, etc. Green each time. What is the *minimum* number of marbles you need to select to *exceed* a probability of 99% that you are picking them out of the all-green barrel? (Note that there are enough marbles so that the answer does not depend on how many marbles are in the second barrel.)\n"
      ]
    },
    {
      "cell_type": "markdown",
      "metadata": {
        "id": "WZNF5ddMAEJe"
      },
      "source": [
        "The minimum number of marbles you need to select to exceed a probability of 99% would be <mark>7 marbles</mark>.\r\n",
        "\r\n",
        "You can solve this problem algebraically:\r\n",
        "\r\n",
        "1. $0.5n(1/2)\\times1+(1/2)\\times0.5n =0.5+0.5n+1$ \r\n",
        "2. $(1/2)\\times1/(0.5+0.5n+1) >=0.99$\r\n",
        "3. $1/(1+0.5n) >=0.99$\r\n",
        "4. $1+0.5n <=1/0.99$\r\n",
        "5. $0.5n <=0.010101$\r\n",
        "6. $n >=6.629$\r\n",
        "7. $n=7$"
      ]
    },
    {
      "cell_type": "markdown",
      "metadata": {
        "id": "xUf30lMS19lh"
      },
      "source": [
        "## A Related But Deeper Basic Probability Theory Question\n",
        "Take a deep breath. Suppose Shakespeare's account is accurate and Julius Caesar gasped \"You too, Brutus\" before breathing his last. What is the probability that you just inhaled a molecule that Julius Caesar exhaled in his dying breath?\n",
        "\n",
        "Assume that after more than two thousand years the exhaled molecules are uniformly spread about the world and the vast majority are still free in the atmosphere. Assume further that there are $10^{44}$ molecules of air in the world, and that your inhaled quantity and Caesar's exhaled quantity were each about $2.2 \\times 10^{22}$ molecules.\n",
        "### Hint\n",
        "If a number $x$ is small, then $(1 - x)$ is approximately equal to $e^{-x}$.\n"
      ]
    },
    {
      "cell_type": "markdown",
      "metadata": {
        "id": "SUQT18ozAOEb"
      },
      "source": [
        "The probability of inhaling at least one of Julius Caesar's molecules is <mark> 0.008 or 0.8% </mark>\r\n",
        "\r\n",
        "This problem can also be solved algebriaclly:\r\n",
        "\r\n",
        " 1. $2.2 \\times 10^{22} / 10^{44} = 2.2 \\times 10^{-22}$\r\n",
        " 2. $10^{44} - 2.2 \\times 10^{22} / 10^{44} = 1 - (2.2 \\times 10^{22} / 10^{44}) \r\n",
        " =  (1 - 2.2 \\times 10^{-22}) = Q$\r\n",
        " 3. $P = Q^{2.2 \\times 10^{22}} = (1 - 2.2 \\times 10^{-22})^{2.2 \\times 10^{22}}$ \r\n",
        " 4. $P = e^{-4.84} = 0.0079$\r\n",
        " 5. $P' = (1 - 8.9 \\times 10^{20} / 10 ^{44})^{ 8.9 \\times 10^{20}} = 0.992$\r\n",
        " 6. $1 - 0.992 = 0.008$\r\n"
      ]
    },
    {
      "cell_type": "markdown",
      "metadata": {
        "id": "qoEe3j0B19li"
      },
      "source": [
        "## What is True?\n",
        "Assess yourself on how you did using the checkboxes below. Check a box by putting an 'X' in it only if it is warranted.\n"
      ]
    },
    {
      "cell_type": "markdown",
      "metadata": {
        "id": "ktSMvsO419lj"
      },
      "source": [
        "### What is true of my experience in general?\n",
        "(5 points each, 15 points total)\n",
        "- [ ] I had fun.\n",
        "- [ ] I learned something new.\n",
        "- [ ] I achieved something meaningful, or something I can build upon at a later time."
      ]
    },
    {
      "cell_type": "markdown",
      "metadata": {
        "id": "G4NuJWJe19lk"
      },
      "source": [
        "### What is true of my report on what I learned?\n",
        "(5 points each, 25 points total)\n",
        "- [ ] I wrote a sufficient number of well-written sentences.\n",
        "- [ ] My report is free of \"mechanical infelicities\" (misspelled words, grammatical errors, punctuation errors, etc.).\n",
        "- [ ] I reported on any connections I found between this investigation and something I already know.\n",
        "- [ ] I reported who were and what contribution each of my collaborators made.\n",
        "- [ ] I reported on how many numbers I was able to verify with a time/computation budget of 24 hours (in a row).\n"
      ]
    },
    {
      "cell_type": "markdown",
      "metadata": {
        "id": "jEk9OEcz19lk"
      },
      "source": [
        "### What is true about my answers?\n",
        "(15 points each, 60 points total)\n",
        "- [ ] I figured out how to run a Python program continuously for at least 24 hours.\n",
        "- [ ] I refrained from printing out anything except the highest number I verified, knowing that printing just slows a program down.\n",
        "- [ ] I got the right answer for the first probability theory question.\n",
        "- [ ] I got the right answer for the second probability theory question.\n"
      ]
    }
  ]
}