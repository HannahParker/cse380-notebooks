{
  "nbformat": 4,
  "nbformat_minor": 0,
  "metadata": {
    "kernelspec": {
      "display_name": "Python 3",
      "language": "python",
      "name": "python3"
    },
    "language_info": {
      "codemirror_mode": {
        "name": "ipython",
        "version": 3
      },
      "file_extension": ".py",
      "mimetype": "text/x-python",
      "name": "python",
      "nbconvert_exporter": "python",
      "pygments_lexer": "ipython3",
      "version": "3.9.0"
    },
    "colab": {
      "name": "about_generating_permutations_and_combinations.ipynb",
      "provenance": []
    }
  },
  "cells": [
    {
      "cell_type": "markdown",
      "metadata": {
        "id": "J7N5pCq4vOR2"
      },
      "source": [
        "# About Generating Permutations and Combinations\n",
        "## Divide Pair Conquer\n",
        "### Due: Monday, 1 February 2021, 11:59pm\n"
      ]
    },
    {
      "cell_type": "markdown",
      "metadata": {
        "id": "0bZGMWHHvOSG"
      },
      "source": [
        "There are many occasions when you need to *generate* the permutations or\n",
        "combinations of a set, not just count them.\n",
        "\n",
        "There are many algorithms for generating permutations and combinations --- you\n",
        "can find them if you look.\n",
        "\n",
        "For an application, from a biographical sketch about Donald Knuth by Kenneth\n",
        "Rosen, we learn that\n"
      ]
    },
    {
      "cell_type": "markdown",
      "metadata": {
        "id": "p2EPhBpdvOSH"
      },
      "source": [
        "> \"Knuth grew up in Milwaukee, where his father taught bookkeeping at a Lutheran\n",
        "high school and owned a small printing business. He was an excellent student,\n",
        "earning academic achievement awards. He applied his intelligence in\n",
        "unconventional ways, winning a contest when he was in the eighth grade by\n",
        "finding as many words as possible that could be formed from the letters in\n",
        "\n",
        "---\n",
        "\n",
        "> **Ziegler's Giant Bar**.\n",
        "\n",
        "___\n",
        "\n",
        "> This won a television set for his school and a candy bar for everyone in his class.\n"
      ]
    },
    {
      "cell_type": "markdown",
      "metadata": {
        "id": "idO_g3IjvOSI"
      },
      "source": [
        "Knuth found over 4500 words. How many can **you** find?"
      ]
    },
    {
      "cell_type": "markdown",
      "metadata": {
        "id": "38BZsisgyYZe"
      },
      "source": [
        "Trying to find all the permuations...code takes too long."
      ]
    },
    {
      "cell_type": "code",
      "metadata": {
        "colab": {
          "base_uri": "https://localhost:8080/"
        },
        "id": "q9OsVGEPw8vR",
        "outputId": "1483507a-04a6-43b7-8dbf-c5aefd0e43c7"
      },
      "source": [
        "ini_str = \"Ziegler's Giant Bar\"\r\n",
        "  \r\n",
        "# Printing initial string \r\n",
        "print(\"Initial string\", ini_str) \r\n",
        "  \r\n",
        "# Finding all permuatation \r\n",
        "result = [] \r\n",
        "  \r\n",
        "def permute(data, i, length):  \r\n",
        "    if i == length:  \r\n",
        "        result.append(''.join(data) ) \r\n",
        "    else:  \r\n",
        "        for j in range(i, length):  \r\n",
        "            # swap \r\n",
        "            data[i], data[j] = data[j], data[i]  \r\n",
        "            permute(data, i + 1, length)  \r\n",
        "            data[i], data[j] = data[j], data[i]   \r\n",
        "permute(list(ini_str), 0, len(ini_str)) \r\n",
        "  \r\n",
        "# Printing result \r\n",
        "print(\"Resultant permutations\", str(result)) "
      ],
      "execution_count": null,
      "outputs": [
        {
          "output_type": "stream",
          "text": [
            "Initial string Ziegler's Giant Bar\n"
          ],
          "name": "stdout"
        }
      ]
    },
    {
      "cell_type": "markdown",
      "metadata": {
        "id": "e3Znao4xyn-R"
      },
      "source": [
        "We were going to try to use a dictonary but ran out of time in class."
      ]
    }
  ]
}