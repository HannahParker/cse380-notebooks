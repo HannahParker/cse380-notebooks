{
  "nbformat": 4,
  "nbformat_minor": 0,
  "metadata": {
    "colab": {
      "name": "09_2_Ponder_and_Prove_Data_Compression.ipynb",
      "provenance": [],
      "include_colab_link": true
    },
    "kernelspec": {
      "name": "python3",
      "display_name": "Python 3"
    }
  },
  "cells": [
    {
      "cell_type": "markdown",
      "metadata": {
        "id": "view-in-github",
        "colab_type": "text"
      },
      "source": [
        "<a href=\"https://colab.research.google.com/github/HannahParker/cse380-notebooks/blob/master/09_2_Ponder_and_Prove_Data_Compression.ipynb\" target=\"_parent\"><img src=\"https://colab.research.google.com/assets/colab-badge.svg\" alt=\"Open In Colab\"/></a>"
      ]
    },
    {
      "cell_type": "markdown",
      "metadata": {
        "id": "1rG4k7VvQ2WT"
      },
      "source": [
        "# Ponder and Prove Data Compression\n",
        "#### Due: Saturday, 6 March 2021, 11:59 pm."
      ]
    },
    {
      "cell_type": "markdown",
      "metadata": {
        "id": "W0WxE3IAQ2WU"
      },
      "source": [
        "# TODO Explore Huffman Trees and Huffman Codes\n"
      ]
    },
    {
      "cell_type": "markdown",
      "metadata": {
        "id": "w2vby9erSjOv"
      },
      "source": [
        "Your task is examine how to compress a *special piece of information* as compactly as possible, and **calculate various compression ratios**.\n",
        "\n",
        "Recall that the **compression ratio** of a variable-length encoding like Huffman encoding is the percentage $100(f - v)/f$, where $f$ is the number of bits per symbol of the smallest **fixed**-length encoding, and $v$ is the average number of bits per symbol with the variable-length encoding.\n",
        "\n",
        "For example, if there were 9 different symbols in a message, $f=4$ is the number of bits of the smallest fixed-length encoding, because $2^3 = 8$ (not enough for $9$) and $2^4 = 16$ (enough and to spare). If the variable-length encoding of the message had $v=3.12$, the compression ratio would be $100(4 - 3.12)/4 \\approx 22\\%$.\n",
        "\n",
        "Note that calculating the average number of bits per symbol is not strictly necessary. That's because an alternate and equivalent way is to calculate $100(ft - vt)/ft$, where $ft$ is the **total** number of bits encoded with the fixed encoding, and $vt$ is the **total** number of bits encoded with the variable-length encoding.\n",
        "\n",
        "The *special piece of information* to be compressed is a list of the first ten million primes. This is a list that starts\n",
        "\n",
        "|    |\n",
        "|----|\n",
        "|  2 |\n",
        "|  3 |\n",
        "|  5 |\n",
        "|  7 |\n",
        "| 11 |\n",
        "| 13 |\n",
        "| 17 |\n",
        "| 19 |\n",
        "| 23 |\n",
        "| 29 |\n",
        "\n",
        "  and ends\n",
        "\n",
        "|           |\n",
        "|-----------|\n",
        "| 179424551 |\n",
        "| 179424571 |\n",
        "| 179424577 |\n",
        "| 179424601 |\n",
        "| 179424611 |\n",
        "| 179424617 |\n",
        "| 179424629 |\n",
        "| 179424667 |\n",
        "| 179424671 |\n",
        "| 179424673 |\n",
        "\n",
        "As ASCII text stored in a file with one prime per line, the size of this data file is slightly over 89 megabytes. The goal is to compress this down to just over 5 megabytes (5589056 bytes, to be exact). That's a 94% compression ratio!\n",
        "\n",
        "Standard compression tools can only get about a 73% compression ratio for this ASCII data. A more clever approach is needed. Instead of compressing the list of prime numbers, compress a list of the *gaps* between them!\n",
        "\n",
        "It doesn't save much, just the unique (occurring only once) gap size of 1 between 2 and 3, but in the spirit of de Polignac's conjecture that every *even* number appears infinitely often as a gap between consecutive primes, just consider the even-sized gaps. The result will be a list that starts with 2 (the difference between 5 and 3), 2 (the difference between 7 and 5), 4 (the difference between 11 and 7), 2 (the difference between 13 and 11), 4 (the difference between 17 and 13), 2 (the difference between 19 and 17), 4 (the difference between 23 and 19), and 6 (the difference between 29 and 23).\n",
        "\n",
        "Generating this data is the first task. The algorithm for doing so is very straightforward:\n",
        "\n",
        "1. Find the gaps between consecutive odd primes.\n",
        "2. Store these gaps as a list of even numbers.\n",
        "\n",
        "Tabulating the results, the first ten gaps and the last ten gaps are as follows, where the numbers after the equals signs are the gaps to list:\n",
        "\n",
        "|                 |\n",
        "|-----------------|\n",
        "|  5  -   3  =  2 |\n",
        "|  7  -   5  =  2 |\n",
        "| 11  -   7  =  4 |\n",
        "| 13  -  11  =  2 |\n",
        "| 17  -  13  =  4 |\n",
        "| 19  -  17  =  2 |\n",
        "| 23  -  19  =  4 |\n",
        "| 29  -  23  =  6 |\n",
        "| 31  -  29  =  2 |\n",
        "| 37  -  31  =  6 |\n",
        "\n",
        "|                                |\n",
        "|--------------------------------|\n",
        "| 179424551  -  179424533  =  18 |\n",
        "| 179424571  -  179424551  =  20 |\n",
        "| 179424577  -  179424571  =   6 |\n",
        "| 179424601  -  179424577  =  24 |\n",
        "| 179424611  -  179424601  =  10 |\n",
        "| 179424617  -  179424611  =   6 |\n",
        "| 179424629  -  179424617  =  12 |\n",
        "| 179424667  -  179424629  =  38 |\n",
        "| 179424671  -  179424667  =   4 |\n",
        "| 179424673  -  179424671  =   2 |\n",
        "\n",
        "As a correctness check, see if your generated list of gaps has length 9999998.\n",
        "\n",
        "The next step is to count how many times each gap size occurs, so that for the Huffman encoding scheme, the larger the frequency of occurrence, the smaller the number of bits encoding that gap size.\n",
        "\n",
        "As a correctness check, here are the first ten and the last ten gap counts:\n",
        "\n",
        "|  Gap | Count   |\n",
        "|------|---------|\n",
        "|    2 |  738597 |\n",
        "|    4 |  738717 |\n",
        "|    6 | 1297540 |\n",
        "|    8 |  566151 |\n",
        "|   10 |  729808 |\n",
        "|   12 |  920661 |\n",
        "|   14 |  503524 |\n",
        "|   16 |  371677 |\n",
        "|   18 |  667734 |\n",
        "|   20 |  354267 |\n",
        "|      |         |\n",
        "|  190 |       1 |\n",
        "|  192 |       3 |\n",
        "|  194 |       1 |\n",
        "|  196 |       1 |\n",
        "|  198 |       6 |\n",
        "|  202 |       2 |\n",
        "|  204 |       3 |\n",
        "|  210 |       4 |\n",
        "|  220 |       1 |\n",
        "|  222 |       1 |\n",
        "\n",
        "Note two things from these partial gap counts:\n",
        "\n",
        "1. Small even numbers (< 100) are well represented, larger ones (< 1000) less so.\n",
        "2. Ten million primes aren't enough to have *every* even number represented; for example, 200, 206, 208, 212, 214, 216, and 218 do not appear even once.\n"
      ]
    },
    {
      "cell_type": "code",
      "metadata": {
        "id": "JAvXvnrZOjCd",
        "colab": {
          "base_uri": "https://localhost:8080/"
        },
        "outputId": "625993c2-2af8-4bac-b457-8fc87372a989"
      },
      "source": [
        "from sympy import primerange\r\n",
        "\r\n",
        "ten_millionth_prime = 179424673\r\n",
        "\r\n",
        "first_ten_million_primes = list(primerange(1, ten_millionth_prime + 1))\r\n",
        "\r\n",
        "print(first_ten_million_primes[0:200])\r\n",
        "\r\n",
        "def list_the_gaps(n=first_ten_million_primes):\r\n",
        "    return list(map(lambda i: n[i]-n[i-1],range(2,len(n))))\r\n",
        "\r\n",
        "def restore_primes(list_of_gaps):\r\n",
        "    prime = 3\r\n",
        "    plist = [2, 3]\r\n",
        "    for gap in list_of_gaps:\r\n",
        "        prime += gap\r\n",
        "        plist.append(prime)\r\n",
        "    return plist\r\n",
        "\r\n",
        "list_of_gaps = list_the_gaps()\r\n",
        "length_of_list_of_gaps = len(list_of_gaps)\r\n",
        "print(\"Length of list of gaps:\")\r\n",
        "print(length_of_list_of_gaps)"
      ],
      "execution_count": 6,
      "outputs": [
        {
          "output_type": "stream",
          "text": [
            "[2, 3, 5, 7, 11, 13, 17, 19, 23, 29, 31, 37, 41, 43, 47, 53, 59, 61, 67, 71, 73, 79, 83, 89, 97, 101, 103, 107, 109, 113, 127, 131, 137, 139, 149, 151, 157, 163, 167, 173, 179, 181, 191, 193, 197, 199, 211, 223, 227, 229, 233, 239, 241, 251, 257, 263, 269, 271, 277, 281, 283, 293, 307, 311, 313, 317, 331, 337, 347, 349, 353, 359, 367, 373, 379, 383, 389, 397, 401, 409, 419, 421, 431, 433, 439, 443, 449, 457, 461, 463, 467, 479, 487, 491, 499, 503, 509, 521, 523, 541, 547, 557, 563, 569, 571, 577, 587, 593, 599, 601, 607, 613, 617, 619, 631, 641, 643, 647, 653, 659, 661, 673, 677, 683, 691, 701, 709, 719, 727, 733, 739, 743, 751, 757, 761, 769, 773, 787, 797, 809, 811, 821, 823, 827, 829, 839, 853, 857, 859, 863, 877, 881, 883, 887, 907, 911, 919, 929, 937, 941, 947, 953, 967, 971, 977, 983, 991, 997, 1009, 1013, 1019, 1021, 1031, 1033, 1039, 1049, 1051, 1061, 1063, 1069, 1087, 1091, 1093, 1097, 1103, 1109, 1117, 1123, 1129, 1151, 1153, 1163, 1171, 1181, 1187, 1193, 1201, 1213, 1217, 1223]\n",
            "Length of list of gaps:\n",
            "9999998\n"
          ],
          "name": "stdout"
        }
      ]
    },
    {
      "cell_type": "code",
      "metadata": {
        "id": "O22MEVA2SVZs",
        "colab": {
          "base_uri": "https://localhost:8080/"
        },
        "outputId": "fbf7a507-e821-4dbe-b6e9-5b2da1dc07d9"
      },
      "source": [
        "first_ten_million_primes_restored = restore_primes(list_of_gaps)\r\n",
        "first_ten_million_primes_restored == first_ten_million_primes"
      ],
      "execution_count": null,
      "outputs": [
        {
          "output_type": "execute_result",
          "data": {
            "text/plain": [
              "True"
            ]
          },
          "metadata": {
            "tags": []
          },
          "execution_count": 16
        }
      ]
    },
    {
      "cell_type": "code",
      "metadata": {
        "id": "H7YFRHtkN4Ah",
        "colab": {
          "base_uri": "https://localhost:8080/"
        },
        "outputId": "76bac6bf-bb97-4fa5-e43c-a2f7a9c374e2"
      },
      "source": [
        "from sympy import primerange\r\n",
        "\r\n",
        "table = {}\r\n",
        "\r\n",
        "prev = 3\r\n",
        "gap = 0\r\n",
        "for prime in list(primerange(4, ten_millionth_prime + 1)):\r\n",
        "    gap = prime - prev\r\n",
        "    #print(gap)\r\n",
        "    prev = prime\r\n",
        "    if (gap in table):\r\n",
        "        table[gap] += 1\r\n",
        "    else:\r\n",
        "        table[gap] = 1\r\n",
        "\r\n",
        "table"
      ],
      "execution_count": null,
      "outputs": [
        {
          "output_type": "execute_result",
          "data": {
            "text/plain": [
              "{2: 738597,\n",
              " 4: 738717,\n",
              " 6: 1297540,\n",
              " 8: 566151,\n",
              " 10: 729808,\n",
              " 12: 920661,\n",
              " 14: 503524,\n",
              " 16: 371677,\n",
              " 18: 667734,\n",
              " 20: 354267,\n",
              " 22: 307230,\n",
              " 24: 453215,\n",
              " 26: 211203,\n",
              " 28: 229177,\n",
              " 30: 398713,\n",
              " 32: 123123,\n",
              " 34: 129043,\n",
              " 36: 206722,\n",
              " 38: 94682,\n",
              " 40: 111546,\n",
              " 42: 159956,\n",
              " 44: 64866,\n",
              " 46: 54931,\n",
              " 48: 93693,\n",
              " 50: 52183,\n",
              " 52: 38800,\n",
              " 54: 64157,\n",
              " 56: 32224,\n",
              " 58: 27985,\n",
              " 60: 55305,\n",
              " 62: 16763,\n",
              " 64: 17374,\n",
              " 66: 30960,\n",
              " 68: 12368,\n",
              " 70: 17475,\n",
              " 72: 17255,\n",
              " 74: 8540,\n",
              " 76: 7253,\n",
              " 78: 13758,\n",
              " 80: 6760,\n",
              " 82: 4791,\n",
              " 84: 9818,\n",
              " 86: 3411,\n",
              " 88: 3454,\n",
              " 90: 7056,\n",
              " 92: 2259,\n",
              " 94: 2058,\n",
              " 96: 3544,\n",
              " 98: 1831,\n",
              " 100: 1923,\n",
              " 102: 2374,\n",
              " 104: 1168,\n",
              " 106: 933,\n",
              " 108: 1634,\n",
              " 110: 941,\n",
              " 112: 711,\n",
              " 114: 1125,\n",
              " 116: 439,\n",
              " 118: 433,\n",
              " 120: 948,\n",
              " 122: 287,\n",
              " 124: 318,\n",
              " 126: 533,\n",
              " 128: 183,\n",
              " 130: 211,\n",
              " 132: 301,\n",
              " 134: 128,\n",
              " 136: 100,\n",
              " 138: 210,\n",
              " 140: 140,\n",
              " 142: 90,\n",
              " 144: 123,\n",
              " 146: 46,\n",
              " 148: 67,\n",
              " 150: 94,\n",
              " 152: 52,\n",
              " 154: 43,\n",
              " 156: 57,\n",
              " 158: 19,\n",
              " 160: 27,\n",
              " 162: 27,\n",
              " 164: 20,\n",
              " 166: 9,\n",
              " 168: 25,\n",
              " 170: 18,\n",
              " 172: 4,\n",
              " 174: 10,\n",
              " 176: 11,\n",
              " 178: 12,\n",
              " 180: 10,\n",
              " 182: 5,\n",
              " 184: 4,\n",
              " 186: 3,\n",
              " 188: 1,\n",
              " 190: 1,\n",
              " 192: 3,\n",
              " 194: 1,\n",
              " 196: 1,\n",
              " 198: 6,\n",
              " 202: 2,\n",
              " 204: 3,\n",
              " 210: 4,\n",
              " 220: 1,\n",
              " 222: 1}"
            ]
          },
          "metadata": {
            "tags": []
          },
          "execution_count": 19
        }
      ]
    },
    {
      "cell_type": "markdown",
      "metadata": {
        "id": "7CUIw8_k03JJ"
      },
      "source": [
        "# TODO Determine Exact Size of Data to be Compressed\n"
      ]
    },
    {
      "cell_type": "markdown",
      "metadata": {
        "id": "wB4sXf0X09Gv"
      },
      "source": [
        "Without actually doing it, imagine creating an ASCII file containing the first ten million primes, represented in decimal, one prime per line. Calculate the size of this file, so you can show an exceptional compression ratio from it (see below).\n",
        "\n",
        "Using a binary encoding instead of ASCII, each prime requires 32 bits (4 bytes), so the size of a binary file is easily determined.\n",
        "\n",
        "Using a fixed-width encoding of the gap counts, however, requires knowing how many different gap sizes there are, after which the calculation is straightforward."
      ]
    },
    {
      "cell_type": "code",
      "metadata": {
        "id": "EMpt1OBcmvVw",
        "outputId": "921296b0-9005-4712-dae1-e596cf45ec84",
        "colab": {
          "base_uri": "https://localhost:8080/"
        }
      },
      "source": [
        "!pip install pyprimesieve"
      ],
      "execution_count": 2,
      "outputs": [
        {
          "output_type": "stream",
          "text": [
            "Collecting pyprimesieve\n",
            "  Downloading https://files.pythonhosted.org/packages/71/65/df0f953cfda5aa6dba56bcbeac5707f544bf0ad5b649a6a7807c5e09966e/pyprimesieve-0.1.6.tar.gz\n",
            "Building wheels for collected packages: pyprimesieve\n",
            "  Building wheel for pyprimesieve (setup.py) ... \u001b[?25l\u001b[?25hdone\n",
            "  Created wheel for pyprimesieve: filename=pyprimesieve-0.1.6-cp37-cp37m-linux_x86_64.whl size=368927 sha256=26674ae5becc645580ec27fc4d41ce6972b6e9f5615af382b9bdd16c7d95c529\n",
            "  Stored in directory: /root/.cache/pip/wheels/c4/63/2b/a485079de882a375d28a4dc141386c76ea9a6aaad505f2198b\n",
            "Successfully built pyprimesieve\n",
            "Installing collected packages: pyprimesieve\n",
            "Successfully installed pyprimesieve-0.1.6\n"
          ],
          "name": "stdout"
        }
      ]
    },
    {
      "cell_type": "code",
      "metadata": {
        "id": "82nY5TpoUps2",
        "colab": {
          "base_uri": "https://localhost:8080/"
        },
        "outputId": "9ff16e37-bdf3-4dc1-e3b1-a9d9648b32ba"
      },
      "source": [
        "import pyprimesieve\r\n",
        "\r\n",
        "# Thanks, Kyle!\r\n",
        "tmp = pyprimesieve.primes_nth(10000000)\r\n",
        "primes = pyprimesieve.primes(tmp+1)\r\n",
        "gaps = [*map(lambda i:primes[i]-primes[i-1],range(2,10000000))]\r\n",
        "from math import log10, floor\r\n",
        "\r\n",
        "# get the number of digits in a certain number\r\n",
        "def get_num_digits_in_num(n):\r\n",
        "    return floor(log10(n))\r\n",
        "\r\n",
        "# make sure to calculate in the newline character\r\n",
        "def get_line_size(n):\r\n",
        "    return get_num_digits_in_num(n) + 1\r\n",
        "total_size_in_digits = sum(map(lambda p: get_line_size(p), primes))\r\n",
        "total_size_in_bits = total_size_in_digits * 8\r\n",
        "print(\"File size in Megabytes:\", (total_size_in_digits + 10 ** 7) / 2 ** 20)\r\n"
      ],
      "execution_count": 3,
      "outputs": [
        {
          "output_type": "stream",
          "text": [
            "File size in Megabytes: 89.15371894836426\n"
          ],
          "name": "stdout"
        }
      ]
    },
    {
      "cell_type": "code",
      "metadata": {
        "id": "qNGjSf8AvMep",
        "outputId": "09a129af-8444-43de-fd3b-2e6dc1928362",
        "colab": {
          "base_uri": "https://localhost:8080/"
        }
      },
      "source": [
        "from math import floor, log2\r\n",
        "floor(log2(max(gaps))) + 1\r\n",
        "from math import ceil\r\n",
        "ceil(log2(len(set(gaps))))"
      ],
      "execution_count": 16,
      "outputs": [
        {
          "output_type": "execute_result",
          "data": {
            "text/plain": [
              "7"
            ]
          },
          "metadata": {
            "tags": []
          },
          "execution_count": 16
        }
      ]
    },
    {
      "cell_type": "code",
      "metadata": {
        "id": "G6NWwQtbxeMW",
        "outputId": "bfba8c15-b6b9-4be4-d442-ca8fab22e208",
        "colab": {
          "base_uri": "https://localhost:8080/"
        }
      },
      "source": [
        "a_set = set(list_of_gaps)\r\n",
        "number_of_unique_values = len(a_set)\r\n",
        "print(\"Unique Gap Sizes:\", number_of_unique_values)"
      ],
      "execution_count": 20,
      "outputs": [
        {
          "output_type": "stream",
          "text": [
            "Unique Gap Sizes: 104\n"
          ],
          "name": "stdout"
        }
      ]
    },
    {
      "cell_type": "markdown",
      "metadata": {
        "id": "9HZChUyC09tJ"
      },
      "source": [
        "# TODO Use Functional Python\n"
      ]
    },
    {
      "cell_type": "markdown",
      "metadata": {
        "id": "j7vG1XqY1CaV"
      },
      "source": [
        "You are encouraged to use the [anytree](https://pypi.org/project/anytree) Python library, which has a nice exporter by way of which you can graphically view trees. (You may recall using this in DM1, and thus know that **anytree** depends on [graphviz](https://graphviz.org), which you also used.)\n",
        "\n",
        "This library uses the object-oriented features of Python to create and visualize trees. You are encouraged to use the functional features of Python as much as possible, achieving your results not by using some existing third-party libraries for building Huffman Trees and Codes, but writing your own code as cleanly and elegantly as you can."
      ]
    },
    {
      "cell_type": "code",
      "metadata": {
        "id": "WiRNPBsStOcM",
        "outputId": "7c7c9efd-b171-4d77-8a9e-92536a3ab3af",
        "colab": {
          "base_uri": "https://localhost:8080/"
        }
      },
      "source": [
        "!pip install anytree\r\n",
        "from anytree import Node, RenderTree, PreOrderIter, Walker\r\n",
        "from anytree.util import leftsibling, rightsibling\r\n",
        "from anytree.exporter.dotexporter import DotExporter\r\n",
        "from collections import Counter\r\n",
        "from queue import PriorityQueue\r\n",
        "from math import ceil, floor, log\r\n",
        "from sympy import primerange\r\n",
        "\r\n",
        "def realprimes_up_to(n):\r\n",
        "  return list(primerange(4, n))\r\n",
        "\r\n",
        "def get_list_of_gaps(pl):\r\n",
        "  gaps_list = list(map(lambda i: pl[i] - pl[i - 1], range(1, len(pl))))\r\n",
        "  gaps_list = [2] + gaps_list # [2] for the gap between 3 and 5\r\n",
        "  return gaps_list\r\n",
        "\r\n",
        "class GapNode(Node):\r\n",
        "  def __lt__(self, other):\r\n",
        "    return self.count < other.count\r\n",
        "\r\n",
        "node_counter = 0\r\n",
        "def next_node_name():\r\n",
        "  global node_counter\r\n",
        "  name = 'gn' + str(node_counter)\r\n",
        "  node_counter += 1\r\n",
        "  return name\r\n",
        "\r\n",
        "def new_node(gp, ct):\r\n",
        "  return GapNode(next_node_name(), gap = gp, count = ct)\r\n",
        "\r\n",
        "def new_internal_node(left, right):\r\n",
        "  return GapNode(next_node_name(), children = [left, right],\r\n",
        "                 gap = 0, count = left.count + right.count)\r\n",
        "\r\n",
        "def make_huffman_tree(gaps_list):\r\n",
        "  gap_dict = Counter(gaps_list)\r\n",
        "  q = PriorityQueue()\r\n",
        "  for key, val in gap_dict.items():\r\n",
        "    q.put(new_node(key, val))\r\n",
        "\r\n",
        "  while q.qsize() > 1:\r\n",
        "    left = q.get()\r\n",
        "    right = q.get()\r\n",
        "    q.put(new_internal_node(left, right))\r\n",
        "\r\n",
        "  return q.get()\r\n",
        "\r\n",
        "def get_codes(root):\r\n",
        "  leaves = [node for node in PreOrderIter(root, filter_=lambda n: not n.children)]\r\n",
        "  codes = {}\r\n",
        "  w = Walker()\r\n",
        "  for leaf in leaves:\r\n",
        "    path = w.walk(leaf, root)[0]\r\n",
        "    code = ''\r\n",
        "    for node in path:\r\n",
        "      code = ('1' if leftsibling(node) else '0') + code\r\n",
        "    codes[leaf.gap] = tuple([code, leaf.count])\r\n",
        "  return codes\r\n",
        "\r\n",
        "def compression_ratio(f, v):\r\n",
        "  return 100 * (f - v) / f\r\n",
        "\r\n",
        "def get_encoded_size(codes):\r\n",
        "  return sum([len(code) * count for gap, (code, count) in codes.items()])\r\n",
        "\r\n",
        "def get_fixed_size(codes):\r\n",
        "  num_keys = len(codes)\r\n",
        "  num_bits_per_key = ceil(log(num_keys, 2))\r\n",
        "  return sum([num_bits_per_key * count for gap, (code, count) in codes.items()])\r\n",
        "\r\n",
        "def report(codes):\r\n",
        "  return compression_ratio(get_fixed_size(codes), get_encoded_size(codes))\r\n",
        "\r\n",
        "def test_up_to(primes, upper, results):\r\n",
        "  list_of_gaps = get_list_of_gaps(primes[:upper])\r\n",
        "  print(primes[:upper])\r\n",
        "  print(list_of_gaps)\r\n",
        "  root = make_huffman_tree(list_of_gaps)\r\n",
        "  print(RenderTree(root))\r\n",
        "  DotExporter(root).to_picture(f'gap-tree-{upper:02d}.png')\r\n",
        "  codes = get_codes(root)\r\n",
        "  print(upper, '-->', get_encoded_size(codes))\r\n",
        "  cr = round(report(codes))\r\n",
        "  results[upper - 1] = cr # adjust since upper is the number of primes, -1 to make it just odd primes\r\n",
        "\r\n",
        "primes = realprimes_up_to(10001)\r\n",
        "results = {}\r\n",
        "for n in range(3, 33):\r\n",
        "    test_up_to(primes, n, results)\r\n",
        "\r\n",
        "results"
      ],
      "execution_count": 11,
      "outputs": [
        {
          "output_type": "stream",
          "text": [
            "Requirement already satisfied: anytree in /usr/local/lib/python3.7/dist-packages (2.8.0)\n",
            "Requirement already satisfied: six>=1.9.0 in /usr/local/lib/python3.7/dist-packages (from anytree) (1.15.0)\n",
            "[5, 7, 11]\n",
            "[2, 2, 4]\n",
            "GapNode('/gn2', count=3, gap=0)\n",
            "├── GapNode('/gn2/gn1', count=1, gap=4)\n",
            "└── GapNode('/gn2/gn0', count=2, gap=2)\n",
            "3 --> 3\n",
            "[5, 7, 11, 13]\n",
            "[2, 2, 4, 2]\n",
            "GapNode('/gn5', count=4, gap=0)\n",
            "├── GapNode('/gn5/gn4', count=1, gap=4)\n",
            "└── GapNode('/gn5/gn3', count=3, gap=2)\n",
            "4 --> 4\n",
            "[5, 7, 11, 13, 17]\n",
            "[2, 2, 4, 2, 4]\n",
            "GapNode('/gn8', count=5, gap=0)\n",
            "├── GapNode('/gn8/gn7', count=2, gap=4)\n",
            "└── GapNode('/gn8/gn6', count=3, gap=2)\n",
            "5 --> 5\n",
            "[5, 7, 11, 13, 17, 19]\n",
            "[2, 2, 4, 2, 4, 2]\n",
            "GapNode('/gn11', count=6, gap=0)\n",
            "├── GapNode('/gn11/gn10', count=2, gap=4)\n",
            "└── GapNode('/gn11/gn9', count=4, gap=2)\n",
            "6 --> 6\n",
            "[5, 7, 11, 13, 17, 19, 23]\n",
            "[2, 2, 4, 2, 4, 2, 4]\n",
            "GapNode('/gn14', count=7, gap=0)\n",
            "├── GapNode('/gn14/gn13', count=3, gap=4)\n",
            "└── GapNode('/gn14/gn12', count=4, gap=2)\n",
            "7 --> 7\n",
            "[5, 7, 11, 13, 17, 19, 23, 29]\n",
            "[2, 2, 4, 2, 4, 2, 4, 6]\n",
            "GapNode('/gn19', count=8, gap=0)\n",
            "├── GapNode('/gn19/gn15', count=4, gap=2)\n",
            "└── GapNode('/gn19/gn18', count=4, gap=0)\n",
            "    ├── GapNode('/gn19/gn18/gn17', count=1, gap=6)\n",
            "    └── GapNode('/gn19/gn18/gn16', count=3, gap=4)\n",
            "8 --> 12\n",
            "[5, 7, 11, 13, 17, 19, 23, 29, 31]\n",
            "[2, 2, 4, 2, 4, 2, 4, 6, 2]\n",
            "GapNode('/gn24', count=9, gap=0)\n",
            "├── GapNode('/gn24/gn23', count=4, gap=0)\n",
            "│   ├── GapNode('/gn24/gn23/gn22', count=1, gap=6)\n",
            "│   └── GapNode('/gn24/gn23/gn21', count=3, gap=4)\n",
            "└── GapNode('/gn24/gn20', count=5, gap=2)\n",
            "9 --> 13\n",
            "[5, 7, 11, 13, 17, 19, 23, 29, 31, 37]\n",
            "[2, 2, 4, 2, 4, 2, 4, 6, 2, 6]\n",
            "GapNode('/gn29', count=10, gap=0)\n",
            "├── GapNode('/gn29/gn25', count=5, gap=2)\n",
            "└── GapNode('/gn29/gn28', count=5, gap=0)\n",
            "    ├── GapNode('/gn29/gn28/gn27', count=2, gap=6)\n",
            "    └── GapNode('/gn29/gn28/gn26', count=3, gap=4)\n",
            "10 --> 15\n",
            "[5, 7, 11, 13, 17, 19, 23, 29, 31, 37, 41]\n",
            "[2, 2, 4, 2, 4, 2, 4, 6, 2, 6, 4]\n",
            "GapNode('/gn34', count=11, gap=0)\n",
            "├── GapNode('/gn34/gn30', count=5, gap=2)\n",
            "└── GapNode('/gn34/gn33', count=6, gap=0)\n",
            "    ├── GapNode('/gn34/gn33/gn32', count=2, gap=6)\n",
            "    └── GapNode('/gn34/gn33/gn31', count=4, gap=4)\n",
            "11 --> 17\n",
            "[5, 7, 11, 13, 17, 19, 23, 29, 31, 37, 41, 43]\n",
            "[2, 2, 4, 2, 4, 2, 4, 6, 2, 6, 4, 2]\n",
            "GapNode('/gn39', count=12, gap=0)\n",
            "├── GapNode('/gn39/gn35', count=6, gap=2)\n",
            "└── GapNode('/gn39/gn38', count=6, gap=0)\n",
            "    ├── GapNode('/gn39/gn38/gn37', count=2, gap=6)\n",
            "    └── GapNode('/gn39/gn38/gn36', count=4, gap=4)\n",
            "12 --> 18\n",
            "[5, 7, 11, 13, 17, 19, 23, 29, 31, 37, 41, 43, 47]\n",
            "[2, 2, 4, 2, 4, 2, 4, 6, 2, 6, 4, 2, 4]\n",
            "GapNode('/gn44', count=13, gap=0)\n",
            "├── GapNode('/gn44/gn40', count=6, gap=2)\n",
            "└── GapNode('/gn44/gn43', count=7, gap=0)\n",
            "    ├── GapNode('/gn44/gn43/gn42', count=2, gap=6)\n",
            "    └── GapNode('/gn44/gn43/gn41', count=5, gap=4)\n",
            "13 --> 20\n",
            "[5, 7, 11, 13, 17, 19, 23, 29, 31, 37, 41, 43, 47, 53]\n",
            "[2, 2, 4, 2, 4, 2, 4, 6, 2, 6, 4, 2, 4, 6]\n",
            "GapNode('/gn49', count=14, gap=0)\n",
            "├── GapNode('/gn49/gn45', count=6, gap=2)\n",
            "└── GapNode('/gn49/gn48', count=8, gap=0)\n",
            "    ├── GapNode('/gn49/gn48/gn47', count=3, gap=6)\n",
            "    └── GapNode('/gn49/gn48/gn46', count=5, gap=4)\n",
            "14 --> 22\n",
            "[5, 7, 11, 13, 17, 19, 23, 29, 31, 37, 41, 43, 47, 53, 59]\n",
            "[2, 2, 4, 2, 4, 2, 4, 6, 2, 6, 4, 2, 4, 6, 6]\n",
            "GapNode('/gn54', count=15, gap=0)\n",
            "├── GapNode('/gn54/gn50', count=6, gap=2)\n",
            "└── GapNode('/gn54/gn53', count=9, gap=0)\n",
            "    ├── GapNode('/gn54/gn53/gn52', count=4, gap=6)\n",
            "    └── GapNode('/gn54/gn53/gn51', count=5, gap=4)\n",
            "15 --> 24\n",
            "[5, 7, 11, 13, 17, 19, 23, 29, 31, 37, 41, 43, 47, 53, 59, 61]\n",
            "[2, 2, 4, 2, 4, 2, 4, 6, 2, 6, 4, 2, 4, 6, 6, 2]\n",
            "GapNode('/gn59', count=16, gap=0)\n",
            "├── GapNode('/gn59/gn55', count=7, gap=2)\n",
            "└── GapNode('/gn59/gn58', count=9, gap=0)\n",
            "    ├── GapNode('/gn59/gn58/gn57', count=4, gap=6)\n",
            "    └── GapNode('/gn59/gn58/gn56', count=5, gap=4)\n",
            "16 --> 25\n",
            "[5, 7, 11, 13, 17, 19, 23, 29, 31, 37, 41, 43, 47, 53, 59, 61, 67]\n",
            "[2, 2, 4, 2, 4, 2, 4, 6, 2, 6, 4, 2, 4, 6, 6, 2, 6]\n",
            "GapNode('/gn64', count=17, gap=0)\n",
            "├── GapNode('/gn64/gn60', count=7, gap=2)\n",
            "└── GapNode('/gn64/gn63', count=10, gap=0)\n",
            "    ├── GapNode('/gn64/gn63/gn61', count=5, gap=4)\n",
            "    └── GapNode('/gn64/gn63/gn62', count=5, gap=6)\n",
            "17 --> 27\n",
            "[5, 7, 11, 13, 17, 19, 23, 29, 31, 37, 41, 43, 47, 53, 59, 61, 67, 71]\n",
            "[2, 2, 4, 2, 4, 2, 4, 6, 2, 6, 4, 2, 4, 6, 6, 2, 6, 4]\n",
            "GapNode('/gn69', count=18, gap=0)\n",
            "├── GapNode('/gn69/gn65', count=7, gap=2)\n",
            "└── GapNode('/gn69/gn68', count=11, gap=0)\n",
            "    ├── GapNode('/gn69/gn68/gn67', count=5, gap=6)\n",
            "    └── GapNode('/gn69/gn68/gn66', count=6, gap=4)\n",
            "18 --> 29\n",
            "[5, 7, 11, 13, 17, 19, 23, 29, 31, 37, 41, 43, 47, 53, 59, 61, 67, 71, 73]\n",
            "[2, 2, 4, 2, 4, 2, 4, 6, 2, 6, 4, 2, 4, 6, 6, 2, 6, 4, 2]\n",
            "GapNode('/gn74', count=19, gap=0)\n",
            "├── GapNode('/gn74/gn70', count=8, gap=2)\n",
            "└── GapNode('/gn74/gn73', count=11, gap=0)\n",
            "    ├── GapNode('/gn74/gn73/gn72', count=5, gap=6)\n",
            "    └── GapNode('/gn74/gn73/gn71', count=6, gap=4)\n",
            "19 --> 30\n",
            "[5, 7, 11, 13, 17, 19, 23, 29, 31, 37, 41, 43, 47, 53, 59, 61, 67, 71, 73, 79]\n",
            "[2, 2, 4, 2, 4, 2, 4, 6, 2, 6, 4, 2, 4, 6, 6, 2, 6, 4, 2, 6]\n",
            "GapNode('/gn79', count=20, gap=0)\n",
            "├── GapNode('/gn79/gn75', count=8, gap=2)\n",
            "└── GapNode('/gn79/gn78', count=12, gap=0)\n",
            "    ├── GapNode('/gn79/gn78/gn76', count=6, gap=4)\n",
            "    └── GapNode('/gn79/gn78/gn77', count=6, gap=6)\n",
            "20 --> 32\n",
            "[5, 7, 11, 13, 17, 19, 23, 29, 31, 37, 41, 43, 47, 53, 59, 61, 67, 71, 73, 79, 83]\n",
            "[2, 2, 4, 2, 4, 2, 4, 6, 2, 6, 4, 2, 4, 6, 6, 2, 6, 4, 2, 6, 4]\n",
            "GapNode('/gn84', count=21, gap=0)\n",
            "├── GapNode('/gn84/gn80', count=8, gap=2)\n",
            "└── GapNode('/gn84/gn83', count=13, gap=0)\n",
            "    ├── GapNode('/gn84/gn83/gn82', count=6, gap=6)\n",
            "    └── GapNode('/gn84/gn83/gn81', count=7, gap=4)\n",
            "21 --> 34\n",
            "[5, 7, 11, 13, 17, 19, 23, 29, 31, 37, 41, 43, 47, 53, 59, 61, 67, 71, 73, 79, 83, 89]\n",
            "[2, 2, 4, 2, 4, 2, 4, 6, 2, 6, 4, 2, 4, 6, 6, 2, 6, 4, 2, 6, 4, 6]\n",
            "GapNode('/gn89', count=22, gap=0)\n",
            "├── GapNode('/gn89/gn85', count=8, gap=2)\n",
            "└── GapNode('/gn89/gn88', count=14, gap=0)\n",
            "    ├── GapNode('/gn89/gn88/gn86', count=7, gap=4)\n",
            "    └── GapNode('/gn89/gn88/gn87', count=7, gap=6)\n",
            "22 --> 36\n",
            "[5, 7, 11, 13, 17, 19, 23, 29, 31, 37, 41, 43, 47, 53, 59, 61, 67, 71, 73, 79, 83, 89, 97]\n",
            "[2, 2, 4, 2, 4, 2, 4, 6, 2, 6, 4, 2, 4, 6, 6, 2, 6, 4, 2, 6, 4, 6, 8]\n",
            "GapNode('/gn96', count=23, gap=0)\n",
            "├── GapNode('/gn96/gn94', count=8, gap=0)\n",
            "│   ├── GapNode('/gn96/gn94/gn93', count=1, gap=8)\n",
            "│   └── GapNode('/gn96/gn94/gn92', count=7, gap=6)\n",
            "└── GapNode('/gn96/gn95', count=15, gap=0)\n",
            "    ├── GapNode('/gn96/gn95/gn91', count=7, gap=4)\n",
            "    └── GapNode('/gn96/gn95/gn90', count=8, gap=2)\n",
            "23 --> 46\n",
            "[5, 7, 11, 13, 17, 19, 23, 29, 31, 37, 41, 43, 47, 53, 59, 61, 67, 71, 73, 79, 83, 89, 97, 101]\n",
            "[2, 2, 4, 2, 4, 2, 4, 6, 2, 6, 4, 2, 4, 6, 6, 2, 6, 4, 2, 6, 4, 6, 8, 4]\n",
            "GapNode('/gn103', count=24, gap=0)\n",
            "├── GapNode('/gn103/gn101', count=8, gap=0)\n",
            "│   ├── GapNode('/gn103/gn101/gn100', count=1, gap=8)\n",
            "│   └── GapNode('/gn103/gn101/gn99', count=7, gap=6)\n",
            "└── GapNode('/gn103/gn102', count=16, gap=0)\n",
            "    ├── GapNode('/gn103/gn102/gn98', count=8, gap=4)\n",
            "    └── GapNode('/gn103/gn102/gn97', count=8, gap=2)\n",
            "24 --> 48\n",
            "[5, 7, 11, 13, 17, 19, 23, 29, 31, 37, 41, 43, 47, 53, 59, 61, 67, 71, 73, 79, 83, 89, 97, 101, 103]\n",
            "[2, 2, 4, 2, 4, 2, 4, 6, 2, 6, 4, 2, 4, 6, 6, 2, 6, 4, 2, 6, 4, 6, 8, 4, 2]\n",
            "GapNode('/gn110', count=25, gap=0)\n",
            "├── GapNode('/gn110/gn104', count=9, gap=2)\n",
            "└── GapNode('/gn110/gn109', count=16, gap=0)\n",
            "    ├── GapNode('/gn110/gn109/gn105', count=8, gap=4)\n",
            "    └── GapNode('/gn110/gn109/gn108', count=8, gap=0)\n",
            "        ├── GapNode('/gn110/gn109/gn108/gn107', count=1, gap=8)\n",
            "        └── GapNode('/gn110/gn109/gn108/gn106', count=7, gap=6)\n",
            "25 --> 49\n",
            "[5, 7, 11, 13, 17, 19, 23, 29, 31, 37, 41, 43, 47, 53, 59, 61, 67, 71, 73, 79, 83, 89, 97, 101, 103, 107]\n",
            "[2, 2, 4, 2, 4, 2, 4, 6, 2, 6, 4, 2, 4, 6, 6, 2, 6, 4, 2, 6, 4, 6, 8, 4, 2, 4]\n",
            "GapNode('/gn117', count=26, gap=0)\n",
            "├── GapNode('/gn117/gn112', count=9, gap=4)\n",
            "└── GapNode('/gn117/gn116', count=17, gap=0)\n",
            "    ├── GapNode('/gn117/gn116/gn115', count=8, gap=0)\n",
            "    │   ├── GapNode('/gn117/gn116/gn115/gn114', count=1, gap=8)\n",
            "    │   └── GapNode('/gn117/gn116/gn115/gn113', count=7, gap=6)\n",
            "    └── GapNode('/gn117/gn116/gn111', count=9, gap=2)\n",
            "26 --> 51\n",
            "[5, 7, 11, 13, 17, 19, 23, 29, 31, 37, 41, 43, 47, 53, 59, 61, 67, 71, 73, 79, 83, 89, 97, 101, 103, 107, 109]\n",
            "[2, 2, 4, 2, 4, 2, 4, 6, 2, 6, 4, 2, 4, 6, 6, 2, 6, 4, 2, 6, 4, 6, 8, 4, 2, 4, 2]\n",
            "GapNode('/gn124', count=27, gap=0)\n",
            "├── GapNode('/gn124/gn118', count=10, gap=2)\n",
            "└── GapNode('/gn124/gn123', count=17, gap=0)\n",
            "    ├── GapNode('/gn124/gn123/gn122', count=8, gap=0)\n",
            "    │   ├── GapNode('/gn124/gn123/gn122/gn121', count=1, gap=8)\n",
            "    │   └── GapNode('/gn124/gn123/gn122/gn120', count=7, gap=6)\n",
            "    └── GapNode('/gn124/gn123/gn119', count=9, gap=4)\n",
            "27 --> 52\n",
            "[5, 7, 11, 13, 17, 19, 23, 29, 31, 37, 41, 43, 47, 53, 59, 61, 67, 71, 73, 79, 83, 89, 97, 101, 103, 107, 109, 113]\n",
            "[2, 2, 4, 2, 4, 2, 4, 6, 2, 6, 4, 2, 4, 6, 6, 2, 6, 4, 2, 6, 4, 6, 8, 4, 2, 4, 2, 4]\n",
            "GapNode('/gn131', count=28, gap=0)\n",
            "├── GapNode('/gn131/gn126', count=10, gap=4)\n",
            "└── GapNode('/gn131/gn130', count=18, gap=0)\n",
            "    ├── GapNode('/gn131/gn130/gn129', count=8, gap=0)\n",
            "    │   ├── GapNode('/gn131/gn130/gn129/gn128', count=1, gap=8)\n",
            "    │   └── GapNode('/gn131/gn130/gn129/gn127', count=7, gap=6)\n",
            "    └── GapNode('/gn131/gn130/gn125', count=10, gap=2)\n",
            "28 --> 54\n",
            "[5, 7, 11, 13, 17, 19, 23, 29, 31, 37, 41, 43, 47, 53, 59, 61, 67, 71, 73, 79, 83, 89, 97, 101, 103, 107, 109, 113, 127]\n",
            "[2, 2, 4, 2, 4, 2, 4, 6, 2, 6, 4, 2, 4, 6, 6, 2, 6, 4, 2, 6, 4, 6, 8, 4, 2, 4, 2, 4, 14]\n",
            "GapNode('/gn140', count=29, gap=0)\n",
            "├── GapNode('/gn140/gn133', count=10, gap=4)\n",
            "└── GapNode('/gn140/gn139', count=19, gap=0)\n",
            "    ├── GapNode('/gn140/gn139/gn138', count=9, gap=0)\n",
            "    │   ├── GapNode('/gn140/gn139/gn138/gn137', count=2, gap=0)\n",
            "    │   │   ├── GapNode('/gn140/gn139/gn138/gn137/gn135', count=1, gap=8)\n",
            "    │   │   └── GapNode('/gn140/gn139/gn138/gn137/gn136', count=1, gap=14)\n",
            "    │   └── GapNode('/gn140/gn139/gn138/gn134', count=7, gap=6)\n",
            "    └── GapNode('/gn140/gn139/gn132', count=10, gap=2)\n",
            "29 --> 59\n",
            "[5, 7, 11, 13, 17, 19, 23, 29, 31, 37, 41, 43, 47, 53, 59, 61, 67, 71, 73, 79, 83, 89, 97, 101, 103, 107, 109, 113, 127, 131]\n",
            "[2, 2, 4, 2, 4, 2, 4, 6, 2, 6, 4, 2, 4, 6, 6, 2, 6, 4, 2, 6, 4, 6, 8, 4, 2, 4, 2, 4, 14, 4]\n",
            "GapNode('/gn149', count=30, gap=0)\n",
            "├── GapNode('/gn149/gn142', count=11, gap=4)\n",
            "└── GapNode('/gn149/gn148', count=19, gap=0)\n",
            "    ├── GapNode('/gn149/gn148/gn147', count=9, gap=0)\n",
            "    │   ├── GapNode('/gn149/gn148/gn147/gn146', count=2, gap=0)\n",
            "    │   │   ├── GapNode('/gn149/gn148/gn147/gn146/gn144', count=1, gap=8)\n",
            "    │   │   └── GapNode('/gn149/gn148/gn147/gn146/gn145', count=1, gap=14)\n",
            "    │   └── GapNode('/gn149/gn148/gn147/gn143', count=7, gap=6)\n",
            "    └── GapNode('/gn149/gn148/gn141', count=10, gap=2)\n",
            "30 --> 60\n",
            "[5, 7, 11, 13, 17, 19, 23, 29, 31, 37, 41, 43, 47, 53, 59, 61, 67, 71, 73, 79, 83, 89, 97, 101, 103, 107, 109, 113, 127, 131, 137]\n",
            "[2, 2, 4, 2, 4, 2, 4, 6, 2, 6, 4, 2, 4, 6, 6, 2, 6, 4, 2, 6, 4, 6, 8, 4, 2, 4, 2, 4, 14, 4, 6]\n",
            "GapNode('/gn158', count=31, gap=0)\n",
            "├── GapNode('/gn158/gn151', count=11, gap=4)\n",
            "└── GapNode('/gn158/gn157', count=20, gap=0)\n",
            "    ├── GapNode('/gn158/gn157/gn150', count=10, gap=2)\n",
            "    └── GapNode('/gn158/gn157/gn156', count=10, gap=0)\n",
            "        ├── GapNode('/gn158/gn157/gn156/gn155', count=2, gap=0)\n",
            "        │   ├── GapNode('/gn158/gn157/gn156/gn155/gn153', count=1, gap=8)\n",
            "        │   └── GapNode('/gn158/gn157/gn156/gn155/gn154', count=1, gap=14)\n",
            "        └── GapNode('/gn158/gn157/gn156/gn152', count=8, gap=6)\n",
            "31 --> 63\n",
            "[5, 7, 11, 13, 17, 19, 23, 29, 31, 37, 41, 43, 47, 53, 59, 61, 67, 71, 73, 79, 83, 89, 97, 101, 103, 107, 109, 113, 127, 131, 137, 139]\n",
            "[2, 2, 4, 2, 4, 2, 4, 6, 2, 6, 4, 2, 4, 6, 6, 2, 6, 4, 2, 6, 4, 6, 8, 4, 2, 4, 2, 4, 14, 4, 6, 2]\n",
            "GapNode('/gn167', count=32, gap=0)\n",
            "├── GapNode('/gn167/gn160', count=11, gap=4)\n",
            "└── GapNode('/gn167/gn166', count=21, gap=0)\n",
            "    ├── GapNode('/gn167/gn166/gn165', count=10, gap=0)\n",
            "    │   ├── GapNode('/gn167/gn166/gn165/gn164', count=2, gap=0)\n",
            "    │   │   ├── GapNode('/gn167/gn166/gn165/gn164/gn162', count=1, gap=8)\n",
            "    │   │   └── GapNode('/gn167/gn166/gn165/gn164/gn163', count=1, gap=14)\n",
            "    │   └── GapNode('/gn167/gn166/gn165/gn161', count=8, gap=6)\n",
            "    └── GapNode('/gn167/gn166/gn159', count=11, gap=2)\n",
            "32 --> 65\n"
          ],
          "name": "stdout"
        },
        {
          "output_type": "execute_result",
          "data": {
            "text/plain": [
              "{2: 0,\n",
              " 3: 0,\n",
              " 4: 0,\n",
              " 5: 0,\n",
              " 6: 0,\n",
              " 7: 25,\n",
              " 8: 28,\n",
              " 9: 25,\n",
              " 10: 23,\n",
              " 11: 25,\n",
              " 12: 23,\n",
              " 13: 21,\n",
              " 14: 20,\n",
              " 15: 22,\n",
              " 16: 21,\n",
              " 17: 19,\n",
              " 18: 21,\n",
              " 19: 20,\n",
              " 20: 19,\n",
              " 21: 18,\n",
              " 22: 0,\n",
              " 23: 0,\n",
              " 24: 2,\n",
              " 25: 2,\n",
              " 26: 4,\n",
              " 27: 4,\n",
              " 28: 32,\n",
              " 29: 33,\n",
              " 30: 32,\n",
              " 31: 32}"
            ]
          },
          "metadata": {
            "tags": []
          },
          "execution_count": 11
        }
      ]
    },
    {
      "cell_type": "code",
      "metadata": {
        "id": "sSMJUMo8txHp",
        "outputId": "81da98d4-f8a7-4724-be6a-ea0647cd4d90",
        "colab": {
          "base_uri": "https://localhost:8080/"
        }
      },
      "source": [
        "tmp = pyprimesieve.primes_nth(10000000)\r\n",
        "primes = pyprimesieve.primes(tmp+1)\r\n",
        "gaps = [*map(lambda i:primes[i]-primes[i-1], range(2,10000000))]\r\n",
        "\r\n",
        "print(len(primes))"
      ],
      "execution_count": 12,
      "outputs": [
        {
          "output_type": "stream",
          "text": [
            "10000000\n"
          ],
          "name": "stdout"
        }
      ]
    },
    {
      "cell_type": "code",
      "metadata": {
        "id": "W44y1ob-uKZp",
        "outputId": "578c0a59-122d-4373-91b0-0c87bb101e21",
        "colab": {
          "base_uri": "https://localhost:8080/"
        }
      },
      "source": [
        "treeRoot = make_huffman_tree(gaps)\r\n",
        "codes = get_codes(treeRoot)\r\n",
        "codes"
      ],
      "execution_count": 13,
      "outputs": [
        {
          "output_type": "execute_result",
          "data": {
            "text/plain": [
              "{2: ('1100', 738597),\n",
              " 4: ('1101', 738717),\n",
              " 6: ('100', 1297540),\n",
              " 8: ('0101', 566151),\n",
              " 10: ('1011', 729808),\n",
              " 12: ('000', 920661),\n",
              " 14: ('0100', 503524),\n",
              " 16: ('11100', 371677),\n",
              " 18: ('0111', 667734),\n",
              " 20: ('10101', 354267),\n",
              " 22: ('01101', 307230),\n",
              " 24: ('0010', 453215),\n",
              " 26: ('111110', 211203),\n",
              " 28: ('111111', 229177),\n",
              " 30: ('11101', 398713),\n",
              " 32: ('001110', 123123),\n",
              " 34: ('011000', 129043),\n",
              " 36: ('111101', 206722),\n",
              " 38: ('1010011', 94682),\n",
              " 40: ('001100', 111546),\n",
              " 42: ('101000', 159956),\n",
              " 44: ('0011111', 64866),\n",
              " 46: ('11110010', 54931),\n",
              " 48: ('1010010', 93693),\n",
              " 50: ('11110001', 52183),\n",
              " 52: ('01100111', 38800),\n",
              " 54: ('0011110', 64157),\n",
              " 56: ('01100100', 32224),\n",
              " 58: ('00110101', 27985),\n",
              " 60: ('11110011', 55305),\n",
              " 62: ('011001010', 16763),\n",
              " 64: ('011001100', 17374),\n",
              " 66: ('00110110', 30960),\n",
              " 68: ('1111000010', 12368),\n",
              " 70: ('011001101', 17475),\n",
              " 72: ('011001011', 17255),\n",
              " 74: ('0011011111', 8540),\n",
              " 76: ('0011011101', 7253),\n",
              " 78: ('001101000', 13758),\n",
              " 80: ('11110000111', 6760),\n",
              " 82: ('11110000001', 4791),\n",
              " 84: ('1111000001', 9818),\n",
              " 86: ('00110100100', 3411),\n",
              " 88: ('00110100101', 3454),\n",
              " 90: ('0011010011', 7056),\n",
              " 92: ('111100000000', 2259),\n",
              " 94: ('001101111010', 2058),\n",
              " 96: ('00110111000', 3544),\n",
              " 98: ('001101110011', 1831),\n",
              " 100: ('001101111001', 1923),\n",
              " 102: ('111100000001', 2374),\n",
              " 104: ('1111000011000', 1168),\n",
              " 106: ('0011011100101', 933),\n",
              " 108: ('1111000011011', 1634),\n",
              " 110: ('0011011110000', 941),\n",
              " 112: ('11110000110100', 711),\n",
              " 114: ('0011011110111', 1125),\n",
              " 116: ('00110111001000', 439),\n",
              " 118: ('111100001101011', 433),\n",
              " 120: ('0011011110001', 948),\n",
              " 122: ('001101111011011', 287),\n",
              " 124: ('111100001100110', 318),\n",
              " 126: ('00110111101100', 533),\n",
              " 128: ('1111000011001110', 183),\n",
              " 130: ('001101110010010', 211),\n",
              " 132: ('111100001100100', 301),\n",
              " 134: ('0011011110110101', 128),\n",
              " 136: ('11110000110101001', 100),\n",
              " 138: ('1111000011010101', 210),\n",
              " 140: ('1111000011001010', 140),\n",
              " 142: ('11110000110011110', 90),\n",
              " 144: ('0011011100100111', 123),\n",
              " 146: ('111100001101010000', 46),\n",
              " 148: ('00110111101101001', 67),\n",
              " 150: ('11110000110011111', 94),\n",
              " 152: ('00110111001001100', 52),\n",
              " 154: ('111100001100101110', 43),\n",
              " 156: ('00110111101101000', 57),\n",
              " 158: ('1111000011001011001', 19),\n",
              " 160: ('001101110010011010', 27),\n",
              " 162: ('1111000011010100011', 27),\n",
              " 164: ('1111000011001011011', 20),\n",
              " 166: ('11110000110010110100', 9),\n",
              " 168: ('1111000011010100010', 25),\n",
              " 170: ('1111000011001011000', 18),\n",
              " 172: ('001101110010011011110', 4),\n",
              " 174: ('11110000110010110101', 10),\n",
              " 176: ('11110000110010111110', 11),\n",
              " 178: ('11110000110010111111', 12),\n",
              " 180: ('11110000110010111100', 10),\n",
              " 182: ('111100001100101111010', 5),\n",
              " 184: ('001101110010011011111', 4),\n",
              " 186: ('1111000011001011110111', 3),\n",
              " 188: ('00110111001001101110000', 1),\n",
              " 190: ('00110111001001101110010', 1),\n",
              " 192: ('001101110010011011010', 3),\n",
              " 194: ('00110111001001101110001', 1),\n",
              " 196: ('00110111001001101110011', 1),\n",
              " 198: ('00110111001001101100', 6),\n",
              " 202: ('0011011100100110110110', 2),\n",
              " 204: ('1111000011001011110110', 3),\n",
              " 210: ('001101110010011011101', 4),\n",
              " 220: ('00110111001001101101110', 1),\n",
              " 222: ('00110111001001101101111', 1)}"
            ]
          },
          "metadata": {
            "tags": []
          },
          "execution_count": 13
        }
      ]
    },
    {
      "cell_type": "code",
      "metadata": {
        "id": "V8q7VH9iuSi-",
        "outputId": "85f3581f-2099-4291-ea6a-47f44f25a491",
        "colab": {
          "base_uri": "https://localhost:8080/"
        }
      },
      "source": [
        "fixed = get_fixed_size(codes)\r\n",
        "encoded = get_encoded_size(codes)\r\n",
        "print(fixed)\r\n",
        "print(encoded)"
      ],
      "execution_count": 14,
      "outputs": [
        {
          "output_type": "stream",
          "text": [
            "69999986\n",
            "44712373\n"
          ],
          "name": "stdout"
        }
      ]
    },
    {
      "cell_type": "markdown",
      "metadata": {
        "id": "TUB4mD8u1DCa"
      },
      "source": [
        "# TODO Achieve Target Compression Ratios"
      ]
    },
    {
      "cell_type": "code",
      "metadata": {
        "id": "qBI44JI9umNe",
        "outputId": "6761068c-cd16-44d9-901d-3a13bf8fae01",
        "colab": {
          "base_uri": "https://localhost:8080/"
        }
      },
      "source": [
        "print(\"From fixed:\", report(codes))"
      ],
      "execution_count": 24,
      "outputs": [
        {
          "output_type": "stream",
          "text": [
            "From fixed: 36.12516865360516\n"
          ],
          "name": "stdout"
        }
      ]
    },
    {
      "cell_type": "code",
      "metadata": {
        "id": "KmNfa8kvuypN",
        "outputId": "b9563480-fad0-49d6-f81c-b8a54e1f548d",
        "colab": {
          "base_uri": "https://localhost:8080/"
        }
      },
      "source": [
        "def get_bin_size(codes):\r\n",
        "  return sum([32 * count for gap, (code, count) in codes.items()])\r\n",
        "\r\n",
        "print(\"From binary:\", compression_ratio(get_bin_size(codes), get_encoded_size(codes)))"
      ],
      "execution_count": 31,
      "outputs": [
        {
          "output_type": "stream",
          "text": [
            "From binary: 86.02738064297613\n"
          ],
          "name": "stdout"
        }
      ]
    },
    {
      "cell_type": "code",
      "metadata": {
        "id": "2NDHFf4QyKWm",
        "outputId": "1b1ae289-7711-43ca-90b4-6e13046710ee",
        "colab": {
          "base_uri": "https://localhost:8080/"
        }
      },
      "source": [
        "def get_ascii_size(primes):\r\n",
        "  return sum([len(str(prime) + '\\n') * 8 for prime in primes])\r\n",
        "\r\n",
        "print(\"From ASCII:\", compression_ratio(get_ascii_size(primes), get_encoded_size(codes)))"
      ],
      "execution_count": 56,
      "outputs": [
        {
          "output_type": "stream",
          "text": [
            "From ASCII: 94.02141572742846\n"
          ],
          "name": "stdout"
        }
      ]
    },
    {
      "cell_type": "markdown",
      "metadata": {
        "id": "8Vw71EqJ18eE"
      },
      "source": [
        "Your solution should correctly compute the following three compression ratios:\n",
        "\n",
        "| Ratio       | Value              |\n",
        "|-------------|--------------------|\n",
        "| From fixed  | 36.125168653605158 |\n",
        "| From binary |              86.03 |\n",
        "| From ASCII  |              94.02 | \n"
      ]
    },
    {
      "cell_type": "markdown",
      "metadata": {
        "id": "81dbKwHenxnT"
      },
      "source": [
        "# TODO My Report on What I Did and What I Learned"
      ]
    },
    {
      "cell_type": "markdown",
      "metadata": {
        "id": "C8BeiIern33B"
      },
      "source": [
        "## Fun\n"
      ]
    },
    {
      "cell_type": "markdown",
      "metadata": {
        "id": "ElukRLoezyxd"
      },
      "source": [
        "I had fun on this assignment. I thought that this assignment was very difficult. However, I was able to meet with a group of students to work on the assignmnet, which made it more fun."
      ]
    },
    {
      "cell_type": "markdown",
      "metadata": {
        "id": "OzOkZ3son-u9"
      },
      "source": [
        "## New"
      ]
    },
    {
      "cell_type": "markdown",
      "metadata": {
        "id": "3-nYIdEUz4x5"
      },
      "source": [
        "In completing this assignment, I learned a lot more about huffman endoding. Before doing this assignment, I didn't know how to caculate a compression ratio. I know feel like I have a good understanding of compression ratios and how they are calculated. "
      ]
    },
    {
      "cell_type": "markdown",
      "metadata": {
        "id": "mJHvoj6GokaZ"
      },
      "source": [
        "## Meaningful\n"
      ]
    },
    {
      "cell_type": "markdown",
      "metadata": {
        "id": "XOxh3XFTz-6N"
      },
      "source": [
        "I found this assignment meaningful. I think that I can build upon this information because I still do not have a lot of knowledge of Huffman Coding and Huffman Trees. I think that this knowledge will be valuable to me in setting up my understanding for future courses."
      ]
    },
    {
      "cell_type": "markdown",
      "metadata": {
        "id": "_RBE03fhpNUG"
      },
      "source": [
        "## Other"
      ]
    },
    {
      "cell_type": "markdown",
      "metadata": {
        "id": "d-sXEeq60C3W"
      },
      "source": [
        "Connections: I can connect this knowledge to what I learned in DM1. In DM1 I did a little bit with Huffman encoding but have learned a lot more in this class!\r\n",
        "\r\n",
        "Collaborators: Claire Hocker, Daniel Strickland, Betton Steiner. We met together in a zoom meeting and worked on the assignment together. "
      ]
    },
    {
      "cell_type": "markdown",
      "metadata": {
        "id": "Nrk-8EmgW4NP"
      },
      "source": [
        "# TODO What is True?\n",
        "Click on each warranted checkbox to toggle it to True (or back to False). \n",
        "\n",
        "NOTE: *This only works in Colab. If you run it in some other Jupyter notebook client/server environment you may have to change False to True (or vice versa) manually.*\n",
        "\n",
        "This self-assessment is subject to revision by a grader."
      ]
    },
    {
      "cell_type": "code",
      "metadata": {
        "id": "qGAjzgVRXR4M"
      },
      "source": [
        "#@markdown ## What is True about what I did?\n",
        "#@markdown ### I had fun.\n",
        "cb00 = True #@param {type:'boolean'}\n",
        "#@markdown ### I learned something new.\n",
        "cb01 = True #@param {type:'boolean'}\n",
        "#@markdown ### I achieved something meaningful, or something I can build upon at a later time.\n",
        "cb02 = True #@param {type:'boolean'}\n",
        "#@markdown ## What is True about my report?\n",
        "#@markdown ### I wrote a sufficient number of well-written sentences.\n",
        "cb03 = True #@param {type:'boolean'}\n",
        "#@markdown ### My report is free of mechanical infelicities.\n",
        "cb04 = True #@param {type:'boolean'}\n",
        "#@markdown ### I used Grammarly (or something better described in my report) to check for MIs.\n",
        "cb05 = True #@param {type:'boolean'}\n",
        "#@markdown ### I reported on any connections I found between these problems and something I already know. \n",
        "cb06 = True #@param {type:'boolean'}\n",
        "#@markdown ### I reported who were and what contribution each of my collaborators made.\n",
        "cb07 = True #@param {type:'boolean'}\n",
        "#@markdown ## What is True about my calculations?\n",
        "#@markdown ### I correctly calculated the number of times each gap size occurs. \n",
        "cb08 = True #@param {type:'boolean'}\n",
        "#@markdown ### I correctly calculated the number of bits per gap size with a fixed encoding.\n",
        "cb09 = True #@param {type:'boolean'}\n",
        "#@markdown ### I correctly calculated the total number of bits encoded with the Huffman encoding.\n",
        "cb10 = True #@param {type:'boolean'}\n",
        "#@markdown ### I correctly calculated the total number of bits encoded with the fixed encoding.\n",
        "cb11 = True #@param {type:'boolean'}\n",
        "#@markdown ### I correctly calculated the compression ratio from this fixed encoding.\n",
        "cb12 = True #@param {type:'boolean'}\n",
        "#@markdown ### I correctly calculated the size of the first ten million primes encoded as 32-bit integer binary data.\n",
        "cb13 = True #@param {type:'boolean'}\n",
        "#@markdown ### I correctly calculated the compression ratio from the binary size.\n",
        "cb14 = True #@param {type:'boolean'}\n",
        "#@markdown ### I correctly calculated the size of the first ten million primes encoded as ASCII data.\n",
        "cb15 = True #@param {type:'boolean'}\n",
        "#@markdown ### I correctly calculated the compression ratio from the ASCII size (just the primes, nothing else).\n",
        "cb16 = True #@param {type:'boolean'}"
      ],
      "execution_count": 57,
      "outputs": []
    },
    {
      "cell_type": "markdown",
      "metadata": {
        "id": "q8KESLBANSkC"
      },
      "source": [
        "## DO NOT CHANGE ANYTHING IN THE NEXT CODE CELL!!\n",
        "### Delete this cell and the following ones before submitting your work."
      ]
    },
    {
      "cell_type": "code",
      "metadata": {
        "id": "rJ_vaL0DWwoc",
        "outputId": "1989367e-1c6f-4241-ed3b-7b4f70f9302c",
        "colab": {
          "base_uri": "https://localhost:8080/"
        }
      },
      "source": [
        "points_for_what_I_did = [5]*3\n",
        "points_for_my_report = [8]*5\n",
        "points_for_my_calculations = [5]*9\n",
        "points = points_for_what_I_did + points_for_my_report + points_for_my_calculations\n",
        "# cb is short for checkbox\n",
        "total = sum(map(lambda n, p: p if eval(f'cb{n:02}') else 0,\n",
        "                range(len(points)), points))             \n",
        "total"
      ],
      "execution_count": 58,
      "outputs": [
        {
          "output_type": "execute_result",
          "data": {
            "text/plain": [
              "100"
            ]
          },
          "metadata": {
            "tags": []
          },
          "execution_count": 58
        }
      ]
    },
    {
      "cell_type": "markdown",
      "metadata": {
        "id": "muxeYgQQKGEU"
      },
      "source": [
        "# For graders"
      ]
    },
    {
      "cell_type": "code",
      "metadata": {
        "id": "c0ldoieNKMTU"
      },
      "source": [
        "#@markdown ---\n",
        "number_of_MIs_found = 0 #@param {type: 'slider', min: 0, max: 5}\n",
        "#@markdown ---\n"
      ],
      "execution_count": null,
      "outputs": []
    }
  ]
}