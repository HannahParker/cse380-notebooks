{
  "nbformat": 4,
  "nbformat_minor": 0,
  "metadata": {
    "colab": {
      "name": " 07_3_About_Deeper_Elementary_Number_Theory.ipynb",
      "provenance": [],
      "include_colab_link": true
    },
    "kernelspec": {
      "name": "python3",
      "display_name": "Python 3"
    }
  },
  "cells": [
    {
      "cell_type": "markdown",
      "metadata": {
        "id": "view-in-github",
        "colab_type": "text"
      },
      "source": [
        "<a href=\"https://colab.research.google.com/github/HannahParker/cse380-notebooks/blob/master/07_3_About_Deeper_Elementary_Number_Theory.ipynb\" target=\"_parent\"><img src=\"https://colab.research.google.com/assets/colab-badge.svg\" alt=\"Open In Colab\"/></a>"
      ]
    },
    {
      "cell_type": "markdown",
      "metadata": {
        "id": "fKBSJ5Hh6UMv"
      },
      "source": [
        "# About Deeper Elementary Number Theory\n",
        "## Class Directed Learning\n",
        "### Due: Wednesday, 17 February 2021, 11:59 pm"
      ]
    },
    {
      "cell_type": "markdown",
      "metadata": {
        "id": "yx-XMrWE6hEw"
      },
      "source": [
        "## Read and Ponder\n",
        "https://byui-cse.github.io/cse380-course/about-deeper-elementary-number-theory.pdf\n",
        "\n",
        "Put your answers in cells you will add below.\n",
        "\n",
        "Above and beyond behavior: Incorporate the material in the PDF into this notebook."
      ]
    },
    {
      "cell_type": "markdown",
      "metadata": {
        "id": "DwUL9RykJDZq"
      },
      "source": [
        "###Proof Explanation:### \r\n",
        "\r\n",
        "written form: \r\n",
        "\r\n",
        "https://mathlesstraveled.com/2017/12/12/fermats-little-theorem-proof-by-necklaces/\r\n",
        "\r\n",
        "video form:\r\n",
        "\r\n",
        "https://youtu.be/OoQ16YCYksw"
      ]
    },
    {
      "cell_type": "markdown",
      "metadata": {
        "id": "Fe7z_gCoLfSc"
      },
      "source": [
        "###Finding Probability:###\r\n",
        "- the floor of the log base 10 of that number would be k - 1\r\n",
        "- don't count negative numbers\r\n",
        "- $P = \\frac{(Estimated Number Of Primes)} {(Values In Range)}$ "
      ]
    },
    {
      "cell_type": "code",
      "metadata": {
        "id": "WEey0zFuQeks",
        "outputId": "dcbcc50a-16ad-422c-8e94-897ac224de3b",
        "colab": {
          "base_uri": "https://localhost:8080/"
        }
      },
      "source": [
        "import math\r\n",
        "\r\n",
        "k = 3\r\n",
        "\r\n",
        "maxK = 10 ** k - 1\r\n",
        "approx = maxK / math.log(maxK)\r\n",
        "approxProb = approx / maxK\r\n",
        "\r\n",
        "print(approxProb)"
      ],
      "execution_count": 33,
      "outputs": [
        {
          "output_type": "stream",
          "text": [
            "0.14478579767901797\n"
          ],
          "name": "stdout"
        }
      ]
    }
  ]
}