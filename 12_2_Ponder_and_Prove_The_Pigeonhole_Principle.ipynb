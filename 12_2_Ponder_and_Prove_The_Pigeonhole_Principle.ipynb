{
  "nbformat": 4,
  "nbformat_minor": 0,
  "metadata": {
    "colab": {
      "name": "12_2_Ponder_and_Prove_The_Pigeonhole_Principle.ipynb",
      "provenance": []
    },
    "kernelspec": {
      "name": "python3",
      "display_name": "Python 3"
    },
    "language_info": {
      "name": "python"
    }
  },
  "cells": [
    {
      "cell_type": "markdown",
      "metadata": {
        "id": "ivY_Ypmxx7Vm"
      },
      "source": [
        "# Ponder and Prove The Pigeonhole Principle\n",
        "## Due: Saturday, 27 March 2021"
      ]
    },
    {
      "cell_type": "markdown",
      "metadata": {
        "id": "zF2K38sxyH5Z"
      },
      "source": [
        "## Exploration"
      ]
    },
    {
      "cell_type": "markdown",
      "metadata": {
        "id": "uBgYLYK5yJzk"
      },
      "source": [
        "You are invited to explore some of the ramifications of the *Pigeonhole Principle*, a fascinating counting principle belonging to combinatorics.\n"
      ]
    },
    {
      "cell_type": "markdown",
      "metadata": {
        "id": "cIS4n3DpyXA1"
      },
      "source": [
        "### Requirements"
      ]
    },
    {
      "cell_type": "markdown",
      "metadata": {
        "id": "FqgealMfyZc8"
      },
      "source": [
        "Read Brother Kent Bessey's essay entitled *Pigeons and Pigeonholes*, think about and explore the topics therein, and write your response thereto.\n",
        "\n",
        "Include in your response a description of a discussion about this essay that you will have had with someone *not in the class* (nor in any of the STEM majors). This person can be a spouse, friend, roommate, or relative. The point is to find someone who is not mathematically strong, and has probably never heard of the Pigeonhole Principle, or combinatorics (or discrete mathematics) in general."
      ]
    },
    {
      "cell_type": "markdown",
      "metadata": {
        "id": "aPEEcqUGzFds"
      },
      "source": [
        "#### Copyright Note"
      ]
    },
    {
      "cell_type": "markdown",
      "metadata": {
        "id": "9EPgpQ0hzHr5"
      },
      "source": [
        "Brother Kent A. Bessey, Professor of Mathematics at BYU-Idaho, holds the copyright to this essay, which means:\n",
        "\n",
        "> All rights reserved (by him). Reproduced by permission (from him).\n",
        "Read-only. Please do not copy, print, transmit or save a copy of\n",
        "this work.\n",
        "\n",
        "He has authorized your temporary use of his work, which [you can find here](https://firstthreeodds.org/17657741833134731255/pigeons-and-pigeonholes.pdf)."
      ]
    },
    {
      "cell_type": "markdown",
      "metadata": {
        "id": "vRKIt3NOzkwH"
      },
      "source": [
        "### TODO Concretize the Abstract by Writing Some Code"
      ]
    },
    {
      "cell_type": "markdown",
      "metadata": {
        "id": "ngXSoVu3znIJ"
      },
      "source": [
        "Specifically, write some Python code to help you figure out the problem on page 40, which Brother Bessey prefaces by saying:\n",
        "\n",
        "> I leave it to the reader to verify the calculations for a final (albeit challenging) exercise ...!\n",
        "\n",
        "Include the results of your grappling with this problem, and note the two stubbed functions below that you must flesh out in order to verify the calculations and explain the hows and whys."
      ]
    },
    {
      "cell_type": "markdown",
      "metadata": {
        "id": "EBQNhzqGzzIF"
      },
      "source": [
        "#### Stub Code"
      ]
    },
    {
      "cell_type": "code",
      "metadata": {
        "id": "fCOUkHjqz10k"
      },
      "source": [
        "def calculate_number_of_possible_initials_including_middle_initial_if_any(n):\n",
        "  # YOUR CODE GOES HERE\n",
        "  return n * n * (n + 1)\n",
        "\n",
        "def pigeonhole_from_pigeon(pigeon_represented_as_a_person_with_traits):\n",
        "  # YOUR CODE GOES HERE\n",
        "  # Get the initials\n",
        "  names = (pigeon_represented_as_a_person_with_traits['Name']).split()\n",
        "  initials = names[0][0].upper()\n",
        "  if len(names) == 3:\n",
        "    initials += names[1][0].upper() + names[2][0].upper()\n",
        "  else:\n",
        "    initials += ' ' + names[1][0].upper()\n",
        "\n",
        "  # Get the binaries\n",
        "  binaries = ''\n",
        "  binary_keys = list(filter(lambda key: key != 'Name', list(pigeon.keys())))\n",
        "  for key in binary_keys:\n",
        "    if pigeon_represented_as_a_person_with_traits[key]:\n",
        "      binaries += '1'\n",
        "    else:\n",
        "      binaries += '0'\n",
        "\n",
        "  # Assert the string is exactly 10 characters long\n",
        "  string = initials + ':' + binaries\n",
        "  assert(len(string) == 10)\n",
        "\n",
        "  # Assert the cardinality of the combinations of the initials and binaries is over 1 million\n",
        "  cardinality = calculate_number_of_possible_initials_including_middle_initial_if_any(26) * 2 ** len(binary_keys)\n",
        "  print(cardinality)\n",
        "  assert(cardinality > 1000000)\n",
        "\n",
        "  # Returns the string 'J D:111001'\n",
        "  return string\n"
      ],
      "execution_count": 1,
      "outputs": []
    },
    {
      "cell_type": "code",
      "metadata": {
        "id": "YvhINgounSRk",
        "colab": {
          "base_uri": "https://localhost:8080/"
        },
        "outputId": "8bf7ed5b-abdb-40a5-febb-5c9dae61f2ea"
      },
      "source": [
        "pigeon = {'Name': 'John Doe', 'LDS': True, 'Likes Cates': True, 'Born Before': True, 'Wears Contacts': False, 'Bites Fingernails': False, 'Lives Close': True}\n",
        "pigeonhole = pigeonhole_from_pigeon(pigeon)\n",
        "print(pigeonhole)"
      ],
      "execution_count": 2,
      "outputs": [
        {
          "output_type": "stream",
          "text": [
            "1168128\n",
            "J D:111001\n"
          ],
          "name": "stdout"
        }
      ]
    },
    {
      "cell_type": "code",
      "metadata": {
        "id": "BX9RY88boKQ7",
        "colab": {
          "base_uri": "https://localhost:8080/"
        },
        "outputId": "3663101a-5684-4ae4-a718-f8d7461c58c2"
      },
      "source": [
        "num_pigeonholes = 26 * 27 * 26 * 2 * 2 * 2 * 2 * 2 * 2\n",
        "# Population of Idaho: https://www.macrotrends.net/states/idaho/population\n",
        "num_pigeons = 1826913\n",
        "\n",
        "print(num_pigeons, num_pigeonholes, num_pigeons / num_pigeonholes)"
      ],
      "execution_count": 3,
      "outputs": [
        {
          "output_type": "stream",
          "text": [
            "1826913 1168128 1.5639664488823142\n"
          ],
          "name": "stdout"
        }
      ]
    },
    {
      "cell_type": "markdown",
      "metadata": {
        "id": "JvMpIHMF0JuM"
      },
      "source": [
        "### TODO Find Applications of the Pigeonhole Principle"
      ]
    },
    {
      "cell_type": "markdown",
      "metadata": {
        "id": "9aicPoZG0Lbj"
      },
      "source": [
        "* In any graph with at least two nodes, there are\n",
        "at least two nodes of the same degree.\n",
        "\n",
        "* A graph G consists of a set V (the elements of V are called vertices) and a set E of pairs of vertices\n",
        "(the elements of E are called edges). The degree of a vertex v in a graph is the number of edges\n",
        "containing v.\n",
        "\n",
        "\n",
        "* Showing languages are non-regular with the Pigonhole principle.\n",
        "\n",
        "  Example : L1 = { 0n1n | n ≥ 0 } is non-regular\n",
        "  * Assume L1 is regular.\n",
        "  * Then there is a DFA M = (Q, Σ, δ, q0, F) recognizing L1.\n",
        "  * Define:\n",
        "    * Pigeons = all strings in 0*.\n",
        "    * Holes = states in Q.\n",
        "  * Put pigeon 0i into hole δ*(q0, 0i\n",
        "  ), that is, the hole\n",
        "  corresponding to the state reached by input 0i\n",
        "  .\n",
        "  * There are |Q| holes, but > |Q| pigeons (actually, infinitely\n",
        "  many).\n",
        "  * So by Pigeonhole Principle, 2 pigeons must be put in\n",
        "  the same hole, say 0i and 0j with i < j.\n",
        "  * That is, 0i and 0j lead to the same state.\n",
        "  * Then since M accepts 0i\n",
        "  1i\n",
        "  , it also accepts 0j\n",
        "  1i\n",
        "  , which is\n",
        "  incorrect, contradiction."
      ]
    },
    {
      "cell_type": "markdown",
      "metadata": {
        "id": "81dbKwHenxnT"
      },
      "source": [
        "## TODO My Report on What I Did and What I Learned"
      ]
    },
    {
      "cell_type": "markdown",
      "metadata": {
        "id": "C8BeiIern33B"
      },
      "source": [
        "### Fun\n"
      ]
    },
    {
      "cell_type": "markdown",
      "metadata": {
        "id": "ElukRLoezyxd"
      },
      "source": [
        "I did have fun on this assignmet. I liked that a lot of this material was easier (that the last couple of weeks). I also found the concept of the Pigeonhole Principle interesting which made the paper fun to read."
      ]
    },
    {
      "cell_type": "markdown",
      "metadata": {
        "id": "OzOkZ3son-u9"
      },
      "source": [
        "### New"
      ]
    },
    {
      "cell_type": "markdown",
      "metadata": {
        "id": "3-nYIdEUz4x5"
      },
      "source": [
        "I had never heard of the Pigeonhole Principle. All of the concepts in this assignment were new to me. I learned about this principle and also how to apply this principle in code."
      ]
    },
    {
      "cell_type": "markdown",
      "metadata": {
        "id": "mJHvoj6GokaZ"
      },
      "source": [
        "### Meaningful\n"
      ]
    },
    {
      "cell_type": "markdown",
      "metadata": {
        "id": "XOxh3XFTz-6N"
      },
      "source": [
        "Considering that all the concepts were new to me, I think that this Prove was more meaningful to me than most. I feel like I learned a lot of new material and was able to understand the concepts being taught. "
      ]
    },
    {
      "cell_type": "markdown",
      "metadata": {
        "id": "_RBE03fhpNUG"
      },
      "source": [
        "### Other"
      ]
    },
    {
      "cell_type": "markdown",
      "metadata": {
        "id": "d-sXEeq60C3W"
      },
      "source": [
        "**Connections:**\n",
        "\n",
        "- There are many connections made to graph theory with the Pigeonhole principle. I mentioned these in the TODO above.\n",
        "\n",
        "- This can also be connected to decimals in math. YOu can use the pigeonhole principle to prove that the decimal expansion of a rational number m/n is eventually repeating. \n",
        "\n",
        "**Collaborators and Contributions:**\n",
        "- Clair Hocker\n",
        "- Daniel Strickland\n",
        "- Bretton Steiner\n",
        "\n",
        "We met on zoom and worked on the coding section of this assignment. Bretton shared his screen and typed out the code as we all contributed our ideas. \n",
        "\n",
        "**Thoughts about the essay in general:**\n",
        "- The pigeonhole principle is one of the simplest mathematical ideas formulated.\n",
        "- The pigonhole principle does not deal with probability or likelihood - upon first impression, thought that it did.\n",
        "- I was suprised that I had never heard of this principle before due to it's simplicity and application in everyday life. \n",
        "\n",
        "**Thoughts about the certainty-not-chance feature of the pigeonhole principle:**\n",
        "\n",
        "- I agree with the cerainty-not-change feature. \n",
        "- The example that helped me understand this best read, \": Among 13 people at least two have the same birthday month.\n",
        "What are the pigeons and what are the pigeonholes? The pigeons are the\n",
        "13 people and the pigeonholes the 12 months of the year. Distinct months\n",
        "cannot be assigned to all 13 individuals. Hence, at least two share the\n",
        "same birthday month.\"\n",
        "- It is certainty-not-change, this is because there are only a finite amount of options avaliable and a finite amount of object or people that fit into these categories.\n",
        "\n",
        "**Thoughts about the philosophical aspect of the pigeonhole principle per page 41:**\n",
        "- This philosphical aspect on the bottom of page 41, I found to be confusing. \n",
        "- I think about problems I have dealt with that have many solutions, for example, in this class everybody programs differently, and thus provides different coding solutions.\n",
        "- However, regaurdless of how the code is written, the code output would look the same (if done correctly). This helps me understand the point.\n",
        "- It's not about how you got the solution, it's about the actual solution alone.\n",
        "\n",
        "**My discussion with a non-STEM non-classmate:**\n",
        "- I had a discussion with my Dad who works in the world of buisness. \n",
        "- My Dad referenced something called the Pigeon Hole Principle in buisness. This occurs when somebody buckets you into a specific category and you are put in a specific slot based off of people perspective. \n",
        "- Reverse this: What would happen if there is one pigeon and four holes?\n",
        "- If you don't have enough to go around, then you have to assume that certain things share. \n",
        "- This can be thought about in terms of supply and demand. If the supply is different than the demand you may be forced to share.\n",
        "\n",
        "**How I grappled with the problem at the bottom of page 40:**\n",
        "\n",
        "It wasn't too hard to solve this problem on the bottom of page 40, especially after reviewing the material in class. I used the examples given in the article as a guide. Each of the initals has 26 possibilites (27 in the case of using a space for no middle name) and each of the true or false features have 2 possibilities. By multiplying all of the possibilites together, we get \n",
        "\n",
        "$26 * 27 * 26 * 2 * 2 * 2 * 2 * 2 * 2 = 1168128$\n",
        "\n",
        "It was also easy to find the population of Idaho with the URL I used. Since there are more people of Idaho than pigeonholes then there must be at least two people of Idaho who have exactly the same features.\n",
        "\n",
        "\n",
        "**Connection I found between the pigeonhole principle and graphs:** \n",
        "\n",
        "This is detailed in the TODO section above. I talk about the connection between nodes, vertices, and edges. I also talk about the pumping Lemma and how the pigeonhole principle is used to prove that an expression is not regular.\n",
        "\n"
      ]
    },
    {
      "cell_type": "markdown",
      "metadata": {
        "id": "Nrk-8EmgW4NP"
      },
      "source": [
        "## TODO What is True?\n",
        "Click on each warranted checkbox to toggle it to True (or back to False). \n",
        "\n",
        "NOTE: *This only works in Colab. If you run it in some other Jupyter notebook client/server environment you may have to change False to True (or vice versa) manually.*\n",
        "\n",
        "This self-assessment is subject to revision by a grader."
      ]
    },
    {
      "cell_type": "code",
      "metadata": {
        "id": "qGAjzgVRXR4M"
      },
      "source": [
        "#@markdown ## What is True about what I did?\n",
        "#@markdown ### I had fun.\n",
        "cb00 = True #@param {type:'boolean'}\n",
        "#@markdown ### I learned something new.\n",
        "cb01 = True #@param {type:'boolean'}\n",
        "#@markdown ### I achieved something meaningful, or something I can build upon at a later time.\n",
        "cb02 = True #@param {type:'boolean'}\n",
        "#@markdown ## What is True about my report?\n",
        "#@markdown ### I wrote a sufficient number of well-written sentences.\n",
        "cb03 = True #@param {type:'boolean'}\n",
        "#@markdown ### My report is free of mechanical infelicities.\n",
        "cb04 = True #@param {type:'boolean'}\n",
        "#@markdown ### I used Grammarly (or something better described in my report) to check for MIs.\n",
        "cb05 = True #@param {type:'boolean'}\n",
        "#@markdown ### I reported on any connections I found between these problems and something I already know. \n",
        "cb06 = True #@param {type:'boolean'}\n",
        "#@markdown ### I reported who were and what contribution each of my collaborators made.\n",
        "cb07 = True #@param {type:'boolean'}\n",
        "#@markdown ### I reported what I thought about the essay in general.\n",
        "cb08 = True #@param {type:'boolean'}\n",
        "#@markdown ### I reported what I thought about the certainty-not-chance feature of the pigeonhole principle.\n",
        "cb09 = True #@param {type:'boolean'}\n",
        "#@markdown ### I reported what I thought about the philosophical aspect of the pigeonhole principle per page 41.\n",
        "cb10 = True #@param {type:'boolean'}\n",
        "#@markdown ### I reported on how my discussion with a non-STEM non-classmate went.\n",
        "cb11 = True #@param {type:'boolean'}\n",
        "#@markdown ### I reported on how I grappled with the problem at the bottom of page 40.\n",
        "cb12 = True #@param {type:'boolean'}\n",
        "#@markdown ### I reported on the connection I found between the pigeonhole principle and graphs.\n",
        "cb13 = True #@param {type:'boolean'}\n",
        "#@markdown ## What is True about my code?\n",
        "#@markdown ### I implemented the first function (the one with the absurdly long name) in one or two lines of code.\n",
        "cb14 = True #@param {type:'boolean'}\n",
        "#@markdown ### I used either the sum rule and product rule together or else just the product rule in the first function.\n",
        "cb15 = True #@param {type:'boolean'}\n",
        "#@markdown ### The first function calculates and returns the correct value (see Exercise 250).\n",
        "cb16 = True #@param {type:'boolean'}\n",
        "#@markdown ### The second function inputs a dictionary like {'Name': 'John Doe', 'LDS': True, 'Likes Cats': True, 'Born Before': True, 'Wears Contacts': False, 'Bites Fingernails': False, 'Lives Close': True} and returns the string 'J D:111001'.\n",
        "cb17 = True #@param {type:'boolean'}\n",
        "#@markdown ### The second function calls the first function with the appropriate argument and uses the result.\n",
        "cb18 = True #@param {type:'boolean'}\n",
        "#@markdown ### The second function includes an assert that the length of the string being returned is 10.\n",
        "cb19 = True #@param {type:'boolean'}\n",
        "#@markdown ### The second function includes an assert that the cardinality of its codomain (set of possible return values) is over a million.\n",
        "cb20 = True #@param {type:'boolean'}"
      ],
      "execution_count": 4,
      "outputs": []
    },
    {
      "cell_type": "markdown",
      "metadata": {
        "id": "q8KESLBANSkC"
      },
      "source": [
        "## DO NOT CHANGE ANYTHING IN THE NEXT CODE CELL!!\n",
        "### Delete this cell and the following ones before submitting your work."
      ]
    },
    {
      "cell_type": "code",
      "metadata": {
        "id": "rJ_vaL0DWwoc",
        "colab": {
          "base_uri": "https://localhost:8080/"
        },
        "outputId": "fce6b389-19e2-4671-88d7-82a88e53fb39"
      },
      "source": [
        "points_for_what_I_did = [3]*3\n",
        "points_for_my_report = [5]*8 + [7] + [6]*2\n",
        "points_for_my_code = [4]*3 + [5]*4\n",
        "points = points_for_what_I_did + points_for_my_report + points_for_my_code\n",
        "# cb is short for checkbox\n",
        "total = sum(map(lambda n, p: p if eval(f'cb{n:02}') else 0,\n",
        "                range(len(points)), points))             \n",
        "total"
      ],
      "execution_count": 5,
      "outputs": [
        {
          "output_type": "execute_result",
          "data": {
            "text/plain": [
              "100"
            ]
          },
          "metadata": {
            "tags": []
          },
          "execution_count": 5
        }
      ]
    },
    {
      "cell_type": "markdown",
      "metadata": {
        "id": "muxeYgQQKGEU"
      },
      "source": [
        "# For graders"
      ]
    }
  ]
}